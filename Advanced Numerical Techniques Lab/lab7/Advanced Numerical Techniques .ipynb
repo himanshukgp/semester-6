{
 "cells": [
  {
   "cell_type": "markdown",
   "metadata": {},
   "source": [
    "# LAB 7\n",
    "# PDE"
   ]
  },
  {
   "cell_type": "markdown",
   "metadata": {},
   "source": [
    "## Question 7\n",
    "\n",
    "### Solve by Crank-Nicholson Scheme.\n",
    "Parabolic PDE, $B^2-AC = 0$. Heat Equation.\n",
    "\n",
    "$$u_t = u_{xx}$$\n",
    "\n",
    "$\\qquad\\qquad\\qquad\\qquad\\qquad\\qquad\\qquad\\qquad$Initial Condition: \n",
    "$$u(x,0) = \\sin{(\\pi x)}$$\n",
    "\n",
    "$\\qquad\\qquad\\qquad\\qquad\\qquad\\qquad\\qquad\\qquad$Boundary Condition:\n",
    "$$u(0,t) = 0$$\n",
    "$$u(1,t) = 0$$\n",
    "\n",
    "$$\\delta t = \\frac{1}{96}, \\;\\;\\; \\text{Experiment with different}\\; \\delta x.$$"
   ]
  },
  {
   "cell_type": "code",
   "execution_count": 1,
   "metadata": {
    "ExecuteTime": {
     "end_time": "2019-04-07T11:44:34.155058Z",
     "start_time": "2019-04-07T11:44:25.212168Z"
    }
   },
   "outputs": [],
   "source": [
    "import numpy as np\n",
    "import pandas as pd"
   ]
  },
  {
   "cell_type": "code",
   "execution_count": 2,
   "metadata": {
    "ExecuteTime": {
     "end_time": "2019-04-07T11:44:46.783940Z",
     "start_time": "2019-04-07T11:44:46.770886Z"
    }
   },
   "outputs": [],
   "source": [
    "x1 = 0\n",
    "x2 = 1"
   ]
  },
  {
   "cell_type": "code",
   "execution_count": 117,
   "metadata": {
    "ExecuteTime": {
     "end_time": "2019-04-07T12:57:18.134286Z",
     "start_time": "2019-04-07T12:57:18.101172Z"
    }
   },
   "outputs": [],
   "source": [
    "def thomas_(a,b,c,d):\n",
    "    c_ = np.zeros(c.size)\n",
    "    d_ = np.zeros(d.size)\n",
    "\n",
    "    c_[0] = c[0]/b[0]\n",
    "    d_[0] = d[0]/b[0]\n",
    "\n",
    "    for i in range(1, c.shape[0]-1):\n",
    "        c_[i] = c[i]/(b[i] - a[i]*c_[i-1])\n",
    "\n",
    "    for i in range(1, d.shape[0]):\n",
    "        d_[i] = (d[i] - a[i]*d_[i-1])/(b[i] - a[i]*c_[i-1])\n",
    "\n",
    "    return [c_, d_]\n",
    "\n",
    "\n",
    "def main_(dx=None):\n",
    "    dt = 1/96\n",
    "    r = dt/(dx*dx)\n",
    "    n = int((x2-x1)/dx)\n",
    "    \n",
    "    x_f = np.zeros(n+1)    \n",
    "    u_j_n = np.zeros(n+1)\n",
    "    \n",
    "    for i in range(n+1):\n",
    "        x_f[i] = i*dx\n",
    "        u_j_n[i] = np.sin(np.pi*x_f[i])\n",
    "    \n",
    "    u_j_n[0]=u_j_n[-1]=0\n",
    "    print(\"Value of r = \", r)\n",
    "\n",
    "    flag=10\n",
    "    while flag!=0:\n",
    "    \n",
    "        a = np.zeros(n-1)\n",
    "        b = np.zeros(n-1)\n",
    "        c = np.zeros(n-1)\n",
    "        d = np.zeros(n-1)\n",
    "        \n",
    "        #print(u_j_n)\n",
    "        #print(-1 * u_j_n[1] - (r/2)*(u_j_n[2]-2*u_j_n[1]+u_j_n[0]))\n",
    "\n",
    "        for i in range(n-1):\n",
    "            a[i] = r/2\n",
    "            b[i] = -1 * r\n",
    "            c[i] = r/2-1\n",
    "            d[i] = -1 * u_j_n[i+1] - (r/2)*(u_j_n[i+2] - 2*u_j_n[i+1] + u_j_n[i])\n",
    "            \n",
    "        #print(d)\n",
    "            \n",
    "        a[0] = 0\n",
    "        c[-1] = 0\n",
    "\n",
    "        c_, d_ = thomas_(a,b,c,d)\n",
    "        res1 = np.zeros(n-1)\n",
    "\n",
    "        res1[-1] = d_[-1]\n",
    "        for i in range(n-2):\n",
    "            res1[n-3-i] = d_[n-3-i] - res1[n-2-i]*c_[n-3-i]\n",
    "\n",
    "        res = np.zeros(n+1)\n",
    "        for i in range(n-1):\n",
    "            res[i+1] = res1[i]\n",
    "            \n",
    "        flag = flag-1\n",
    "        \n",
    "        u_j_n = res\n",
    "        \n",
    "    return [u_j_n, x_f]"
   ]
  },
  {
   "cell_type": "code",
   "execution_count": 118,
   "metadata": {
    "ExecuteTime": {
     "end_time": "2019-04-07T12:57:18.769305Z",
     "start_time": "2019-04-07T12:57:18.642760Z"
    }
   },
   "outputs": [
    {
     "name": "stdout",
     "output_type": "stream",
     "text": [
      "Value of r =  4.166666666666665\n",
      "Value of r =  104.16666666666666\n",
      "Value of r =  10416.666666666666\n"
     ]
    }
   ],
   "source": [
    "a_1, x_1 = main_(0.05)\n",
    "a_2, x_2 = main_(0.01)\n",
    "a_3, x_3 = main_(0.001)\n",
    "# a_4, x_4 = main_(0.1)"
   ]
  },
  {
   "cell_type": "code",
   "execution_count": 126,
   "metadata": {
    "ExecuteTime": {
     "end_time": "2019-04-07T13:15:44.809638Z",
     "start_time": "2019-04-07T13:15:44.777171Z"
    }
   },
   "outputs": [
    {
     "name": "stdout",
     "output_type": "stream",
     "text": [
      "       x    u(x,t)\n",
      "0   0.00  0.000000\n",
      "1   0.05  0.013352\n",
      "2   0.10  0.029141\n",
      "3   0.15  0.048360\n",
      "4   0.20  0.070597\n",
      "5   0.25  0.095570\n",
      "6   0.30  0.122924\n",
      "7   0.35  0.152104\n",
      "8   0.40  0.182334\n",
      "9   0.45  0.212616\n",
      "10  0.50  0.241723\n",
      "11  0.55  0.268183\n",
      "12  0.60  0.290235\n",
      "13  0.65  0.305754\n",
      "14  0.70  0.312364\n",
      "15  0.75  0.307875\n",
      "16  0.80  0.289424\n",
      "17  0.85  0.250073\n",
      "18  0.90  0.195939\n",
      "19  0.95  0.110200\n",
      "20  1.00  0.000000\n",
      "\n",
      "        x    u(x,t)\n",
      "0    0.00  0.000000\n",
      "1    0.01  0.009031\n",
      "2    0.02  0.018027\n",
      "3    0.03  0.027041\n",
      "4    0.04  0.036099\n",
      "5    0.05  0.045206\n",
      "6    0.06  0.054362\n",
      "7    0.07  0.063556\n",
      "8    0.08  0.072778\n",
      "9    0.09  0.082017\n",
      "10   0.10  0.091260\n",
      "11   0.11  0.100496\n",
      "12   0.12  0.109713\n",
      "13   0.13  0.118901\n",
      "14   0.14  0.128050\n",
      "15   0.15  0.137149\n",
      "16   0.16  0.146189\n",
      "17   0.17  0.155160\n",
      "18   0.18  0.164052\n",
      "19   0.19  0.172856\n",
      "20   0.20  0.181562\n",
      "21   0.21  0.190161\n",
      "22   0.22  0.198643\n",
      "23   0.23  0.206998\n",
      "24   0.24  0.215217\n",
      "25   0.25  0.223291\n",
      "26   0.26  0.231209\n",
      "27   0.27  0.238962\n",
      "28   0.28  0.246542\n",
      "29   0.29  0.253938\n",
      "..    ...       ...\n",
      "71   0.71  0.304959\n",
      "72   0.72  0.298690\n",
      "73   0.73  0.292064\n",
      "74   0.74  0.285086\n",
      "75   0.75  0.277759\n",
      "76   0.76  0.270088\n",
      "77   0.77  0.262076\n",
      "78   0.78  0.253729\n",
      "79   0.79  0.245052\n",
      "80   0.80  0.236051\n",
      "81   0.81  0.226732\n",
      "82   0.82  0.217102\n",
      "83   0.83  0.207168\n",
      "84   0.84  0.196938\n",
      "85   0.85  0.186420\n",
      "86   0.86  0.175622\n",
      "87   0.87  0.164553\n",
      "88   0.88  0.153222\n",
      "89   0.89  0.141638\n",
      "90   0.90  0.129810\n",
      "91   0.91  0.117744\n",
      "92   0.92  0.105448\n",
      "93   0.93  0.092926\n",
      "94   0.94  0.080181\n",
      "95   0.95  0.067219\n",
      "96   0.96  0.054047\n",
      "97   0.97  0.040680\n",
      "98   0.98  0.027155\n",
      "99   0.99  0.013547\n",
      "100  1.00  0.000000\n",
      "\n",
      "[101 rows x 2 columns]\n",
      "\n",
      "          x    u(x,t)\n",
      "0     0.000  0.000000\n",
      "1     0.001  0.001101\n",
      "2     0.002  0.002201\n",
      "3     0.003  0.003301\n",
      "4     0.004  0.004401\n",
      "5     0.005  0.005501\n",
      "6     0.006  0.006601\n",
      "7     0.007  0.007700\n",
      "8     0.008  0.008800\n",
      "9     0.009  0.009899\n",
      "10    0.010  0.010998\n",
      "11    0.011  0.012097\n",
      "12    0.012  0.013196\n",
      "13    0.013  0.014295\n",
      "14    0.014  0.015393\n",
      "15    0.015  0.016492\n",
      "16    0.016  0.017590\n",
      "17    0.017  0.018688\n",
      "18    0.018  0.019786\n",
      "19    0.019  0.020884\n",
      "20    0.020  0.021982\n",
      "21    0.021  0.023079\n",
      "22    0.022  0.024177\n",
      "23    0.023  0.025274\n",
      "24    0.024  0.026371\n",
      "25    0.025  0.027468\n",
      "26    0.026  0.028564\n",
      "27    0.027  0.029661\n",
      "28    0.028  0.030757\n",
      "29    0.029  0.031853\n",
      "...     ...       ...\n",
      "971   0.971  0.033179\n",
      "972   0.972  0.032038\n",
      "973   0.973  0.030897\n",
      "974   0.974  0.029756\n",
      "975   0.975  0.028614\n",
      "976   0.976  0.027472\n",
      "977   0.977  0.026329\n",
      "978   0.978  0.025186\n",
      "979   0.979  0.024043\n",
      "980   0.980  0.022900\n",
      "981   0.981  0.021756\n",
      "982   0.982  0.020612\n",
      "983   0.983  0.019468\n",
      "984   0.984  0.018324\n",
      "985   0.985  0.017179\n",
      "986   0.986  0.016034\n",
      "987   0.987  0.014889\n",
      "988   0.988  0.013744\n",
      "989   0.989  0.012599\n",
      "990   0.990  0.011454\n",
      "991   0.991  0.010308\n",
      "992   0.992  0.009163\n",
      "993   0.993  0.008017\n",
      "994   0.994  0.006872\n",
      "995   0.995  0.005726\n",
      "996   0.996  0.004581\n",
      "997   0.997  0.003435\n",
      "998   0.998  0.002290\n",
      "999   0.999  0.001145\n",
      "1000  1.000  0.000000\n",
      "\n",
      "[1001 rows x 2 columns]\n"
     ]
    }
   ],
   "source": [
    "print(pd.DataFrame(np.column_stack((x_1, a_1)), columns=[\"x\", \"u(x,t)\"]))\n",
    "print()\n",
    "print(pd.DataFrame(np.column_stack((x_2, a_2)), columns=[\"x\", \"u(x,t)\"]))\n",
    "print()\n",
    "print(pd.DataFrame(np.column_stack((x_3, a_3)), columns=[\"x\", \"u(x,t)\"]))"
   ]
  },
  {
   "cell_type": "code",
   "execution_count": 124,
   "metadata": {
    "ExecuteTime": {
     "end_time": "2019-04-07T13:15:03.117297Z",
     "start_time": "2019-04-07T13:15:02.883148Z"
    }
   },
   "outputs": [
    {
     "data": {
      "image/png": "[encoded data removed]",
      "text/plain": [
       "<Figure size 960x800 with 1 Axes>"
      ]
     },
     "metadata": {},
     "output_type": "display_data"
    }
   ],
   "source": [
    "import matplotlib.pyplot as plt\n",
    "from matplotlib.pyplot import figure\n",
    "figure(num=None, figsize=(12, 10), dpi=80, facecolor='w', edgecolor='k')\n",
    "\n",
    "plt.plot(x_1, a_1, 'r+', label = 'h = 0.02')\n",
    "plt.plot(x_2, (a_2),  'gx', label = 'h = 0.05')\n",
    "plt.plot(x_3, (a_3),  'm-', label = 'h = 0.1')\n",
    "# plt.plot(x_4, (a_4), 'bx', label = 'h = 0.25')\n",
    "plt.legend(loc='best')\n",
    "plt.show()"
   ]
  },
  {
   "cell_type": "code",
   "execution_count": 125,
   "metadata": {
    "ExecuteTime": {
     "end_time": "2019-04-07T13:15:41.112346Z",
     "start_time": "2019-04-07T13:15:41.100814Z"
    }
   },
   "outputs": [
    {
     "data": {
      "application/javascript": [
       "IPython.OutputArea.prototype._should_scroll = function(lines) {\n",
       "    return false;\n",
       "}\n"
      ],
      "text/plain": [
       "<IPython.core.display.Javascript object>"
      ]
     },
     "metadata": {},
     "output_type": "display_data"
    }
   ],
   "source": [
    "%%javascript\n",
    "IPython.OutputArea.prototype._should_scroll = function(lines) {\n",
    "    return false;\n",
    "}"
   ]
  },
  {
   "cell_type": "code",
   "execution_count": null,
   "metadata": {},
   "outputs": [],
   "source": []
  },
  {
   "cell_type": "code",
   "execution_count": null,
   "metadata": {},
   "outputs": [],
   "source": []
  },
  {
   "cell_type": "markdown",
   "metadata": {},
   "source": [
    "# Question 2"
   ]
  },
  {
   "cell_type": "markdown",
   "metadata": {},
   "source": [
    "ef"
   ]
  },
  {
   "cell_type": "code",
   "execution_count": 127,
   "metadata": {
    "ExecuteTime": {
     "end_time": "2019-04-07T14:33:24.337376Z",
     "start_time": "2019-04-07T14:33:24.325842Z"
    }
   },
   "outputs": [],
   "source": [
    "x1 = 0\n",
    "x2 = 1"
   ]
  },
  {
   "cell_type": "code",
   "execution_count": 128,
   "metadata": {
    "ExecuteTime": {
     "end_time": "2019-04-07T14:33:34.423849Z",
     "start_time": "2019-04-07T14:33:34.289160Z"
    }
   },
   "outputs": [],
   "source": [
    "def thomas_(a,b,c,d):\n",
    "    c_ = np.zeros(c.size)\n",
    "    d_ = np.zeros(d.size)\n",
    "\n",
    "    c_[0] = c[0]/b[0]\n",
    "    d_[0] = d[0]/b[0]\n",
    "\n",
    "    for i in range(1, c.shape[0]-1):\n",
    "        c_[i] = c[i]/(b[i] - a[i]*c_[i-1])\n",
    "\n",
    "    for i in range(1, d.shape[0]):\n",
    "        d_[i] = (d[i] - a[i]*d_[i-1])/(b[i] - a[i]*c_[i-1])\n",
    "\n",
    "    return [c_, d_]\n",
    "\n",
    "\n",
    "def main_(dx=None):\n",
    "    dt = 1/96\n",
    "    r = dt/(dx*dx)\n",
    "    n = int((x2-x1)/dx)\n",
    "    \n",
    "    x_f = np.zeros(n+1)    \n",
    "    u_j_n = np.zeros(n+1)\n",
    "    \n",
    "    for i in range(n+1):\n",
    "        x_f[i] = i*dx\n",
    "        u_j_n[i] = np.sin(np.pi*x_f[i])\n",
    "    \n",
    "    u_j_n[0]=u_j_n[-1]=0\n",
    "    print(\"Value of r = \", r)\n",
    "\n",
    "    flag=10\n",
    "    while flag!=0:\n",
    "    \n",
    "        a = np.zeros(n-1)\n",
    "        b = np.zeros(n-1)\n",
    "        c = np.zeros(n-1)\n",
    "        d = np.zeros(n-1)\n",
    "        \n",
    "        #print(u_j_n)\n",
    "        #print(-1 * u_j_n[1] - (r/2)*(u_j_n[2]-2*u_j_n[1]+u_j_n[0]))\n",
    "\n",
    "        for i in range(n-1):\n",
    "            a[i] = r/2\n",
    "            b[i] = -1 * r\n",
    "            c[i] = r/2-1\n",
    "            d[i] = -1 * u_j_n[i+1] - (r/2)*(u_j_n[i+2] - 2*u_j_n[i+1] + u_j_n[i])\n",
    "            \n",
    "        #print(d)\n",
    "            \n",
    "        a[0] = 0\n",
    "        c[-1] = 0\n",
    "\n",
    "        c_, d_ = thomas_(a,b,c,d)\n",
    "        res1 = np.zeros(n-1)\n",
    "\n",
    "        res1[-1] = d_[-1]\n",
    "        for i in range(n-2):\n",
    "            res1[n-3-i] = d_[n-3-i] - res1[n-2-i]*c_[n-3-i]\n",
    "\n",
    "        res = np.zeros(n+1)\n",
    "        for i in range(n-1):\n",
    "            res[i+1] = res1[i]\n",
    "            \n",
    "        flag = flag-1\n",
    "        \n",
    "        u_j_n = res\n",
    "        \n",
    "    return [u_j_n, x_f]"
   ]
  },
  {
   "cell_type": "code",
   "execution_count": null,
   "metadata": {},
   "outputs": [],
   "source": [
    "a_1, x_1 = main_(0.05)\n",
    "a_2, x_2 = main_(0.01)\n",
    "a_3, x_3 = main_(0.001)\n",
    "# a_4, x_4 = main_(0.1)"
   ]
  },
  {
   "cell_type": "code",
   "execution_count": null,
   "metadata": {},
   "outputs": [],
   "source": [
    "print(pd.DataFrame(np.column_stack((x_1, a_1)), columns=[\"x\", \"u(x,t)\"]))\n",
    "print()\n",
    "print(pd.DataFrame(np.column_stack((x_2, a_2)), columns=[\"x\", \"u(x,t)\"]))\n",
    "print()\n",
    "print(pd.DataFrame(np.column_stack((x_3, a_3)), columns=[\"x\", \"u(x,t)\"]))"
   ]
  },
  {
   "cell_type": "code",
   "execution_count": null,
   "metadata": {},
   "outputs": [],
   "source": [
    "import matplotlib.pyplot as plt\n",
    "from matplotlib.pyplot import figure\n",
    "figure(num=None, figsize=(12, 10), dpi=80, facecolor='w', edgecolor='k')\n",
    "\n",
    "plt.plot(x_1, a_1, 'r+', label = 'h = 0.02')\n",
    "plt.plot(x_2, (a_2),  'gx', label = 'h = 0.05')\n",
    "plt.plot(x_3, (a_3),  'm-', label = 'h = 0.1')\n",
    "# plt.plot(x_4, (a_4), 'bx', label = 'h = 0.25')\n",
    "plt.legend(loc='best')\n",
    "plt.show()"
   ]
  }
 ],
 "metadata": {
  "kernelspec": {
   "display_name": "Python 3",
   "language": "python",
   "name": "python3"
  },
  "language_info": {
   "codemirror_mode": {
    "name": "ipython",
    "version": 3
   },
   "file_extension": ".py",
   "mimetype": "text/x-python",
   "name": "python",
   "nbconvert_exporter": "python",
   "pygments_lexer": "ipython3",
   "version": "3.6.5"
  }
 },
 "nbformat": 4,
 "nbformat_minor": 2
}
