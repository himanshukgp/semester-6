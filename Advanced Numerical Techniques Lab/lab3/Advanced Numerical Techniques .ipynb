{
 "cells": [
  {
   "cell_type": "markdown",
   "metadata": {},
   "source": [
    "# LAB 3\n",
    "\n",
    "\n",
    "## NAME - HIMANSHU\n",
    "## ROLL - 16MA20020"
   ]
  },
  {
   "cell_type": "markdown",
   "metadata": {},
   "source": [
    "<br/><br/>\n",
    "\n",
    "## THEORY\n",
    "\n"
   ]
  },
  {
   "cell_type": "markdown",
   "metadata": {},
   "source": [
    "In some applications, such as solving ODE-BVP / PDE using orthogonal collocations on finite elements,\n",
    "we encounter equations with a block diagonal matrices.\n",
    "\n",
    "$$AX = D$$\n",
    "\n",
    "$$\n",
    "\\begin{bmatrix}\n",
    "    b_1  &c_1  &0    &0  \\dots   & 0 \\\\\n",
    "    a_1  &b_1  &c_1  &0  \\dots   & 0 \\\\\n",
    "    &\\vdots && \\dots & \\vdots \\\\\n",
    "    0    &0    &0    &0  \\dots   &b_n\n",
    "\\end{bmatrix}\n",
    "$$\n",
    "\n",
    "where each element of A is a matrix and each elements of X and D are vectors with dimension equal to number of columns in one matrix element of A.\n",
    "\n",
    "\n",
    "It can also be solved using thomas algorithm using matrix inverse and matrix multiplication in place of regular multiplication and division.\n",
    "\n"
   ]
  },
  {
   "cell_type": "markdown",
   "metadata": {},
   "source": [
    "## Question\n",
    "\n",
    "$$y'' +4y'' + y' - 6y = 1 $$\n",
    "\n",
    "wrt: \n",
    "$$y(0) = 0$$\n",
    "$$y'(0) = 0$$\n",
    "$$ y'(1) = 1 $$"
   ]
  },
  {
   "cell_type": "code",
   "execution_count": 4,
   "metadata": {
    "ExecuteTime": {
     "end_time": "2019-01-28T10:44:26.733826Z",
     "start_time": "2019-01-28T10:44:26.719140Z"
    }
   },
   "outputs": [],
   "source": [
    "import numpy as np\n",
    "import pandas as pd"
   ]
  },
  {
   "cell_type": "code",
   "execution_count": 7,
   "metadata": {
    "ExecuteTime": {
     "end_time": "2019-01-28T10:44:37.347153Z",
     "start_time": "2019-01-28T10:44:37.343573Z"
    }
   },
   "outputs": [],
   "source": [
    "x1 = 0\n",
    "x2 = 1\n",
    "y1_ = 0\n",
    "y2_ = 1\n",
    "h = 1/3"
   ]
  },
  {
   "cell_type": "code",
   "execution_count": 18,
   "metadata": {
    "ExecuteTime": {
     "end_time": "2019-01-28T11:26:55.875388Z",
     "start_time": "2019-01-28T11:26:55.854546Z"
    }
   },
   "outputs": [
    {
     "data": {
      "text/plain": [
       "3"
      ]
     },
     "execution_count": 18,
     "metadata": {},
     "output_type": "execute_result"
    }
   ],
   "source": [
    "int((x2-x1)/h)"
   ]
  },
  {
   "cell_type": "code",
   "execution_count": 68,
   "metadata": {
    "ExecuteTime": {
     "end_time": "2019-01-28T13:43:54.500192Z",
     "start_time": "2019-01-28T13:43:54.453686Z"
    }
   },
   "outputs": [],
   "source": [
    "def thomas_(a,b,c,d):\n",
    "    c_ = np.zeros(c.shape)\n",
    "    d_ = np.zeros(d.shape)\n",
    "\n",
    "    c_[0] = np.dot(np.linalg.inv(b[0]), c[0] )\n",
    "    d_[0] = np.dot(np.linalg.inv(b[0]), d[0] )\n",
    "\n",
    "    for i in range(1, c.shape[0]-1):\n",
    "        c_[i] = np.dot( np.linalg.inv(b[i] - np.dot(a[i], c_[i-1])), c[i] )\n",
    "\n",
    "    for i in range(1, d.shape[0]):\n",
    "        d_[i] = np.dot( np.linalg.inv(b[i] - np.dot(a[i], c_[i-1])), d[i] - np.dot(a[i], d_[i-1]) )\n",
    "\n",
    "    return [c_, d_]\n",
    "\n",
    "\n",
    "def main_(h=1/3):\n",
    "    n = int((x2-x1)/h) +1 \n",
    "\n",
    "    a = np.zeros((n-1,2,2))\n",
    "    b = np.zeros((n-1,2,2))\n",
    "    c = np.zeros((n-1,2,2))\n",
    "    d = np.zeros((n-1,2))\n",
    "    x_f = np.zeros((n-1)) \n",
    "    \n",
    "    \n",
    "    for i in range(0, n-1):\n",
    "        x_f[i] = x1+(1+i)*h\n",
    "        a[i][0][0] = -1\n",
    "        a[i][0][1] = -1*h/2\n",
    "        a[i][1][0] = 0\n",
    "        a[i][1][1] = 1/(h*h) - 2/h\n",
    "\n",
    "    for i in range(0, n-1):\n",
    "        b[i][0][0] = 1\n",
    "        b[i][0][1] = -1*h/2\n",
    "        b[i][1][0] = -6\n",
    "        b[i][1][1] = -2/(h*h) + 1\n",
    "\n",
    "    for i in range(0, n-1):\n",
    "        c[i][0][0] = 0\n",
    "        c[i][0][1] = 0\n",
    "        c[i][1][0] = 0\n",
    "        c[i][1][1] = 1/(h*h) + 2/h\n",
    "        \n",
    "        \n",
    "    d[0][0] = 0\n",
    "    d[0][1] = 1\n",
    "        \n",
    "    for i in range(1,n-2):\n",
    "        d[i][0] = 0\n",
    "        d[i][1] = 1\n",
    "        \n",
    "        \n",
    "    d[-1] = np.array([0, 1]) - np.dot(c[-1], np.array([0, 1]))\n",
    "\n",
    "    c_,d_ = thomas_(a,b,c,d)\n",
    "    \n",
    "    res = np.zeros((n-1,2))\n",
    "\n",
    "    res[-1] = d_[-1]\n",
    "    for i in range(n-2):\n",
    "        res[n-3-i] = d_[n-3-i] - np.dot(c_[n-3-i], res[n-2-i])\n",
    "        \n",
    "    return [res[:,0], x_f]"
   ]
  },
  {
   "cell_type": "code",
   "execution_count": 71,
   "metadata": {
    "ExecuteTime": {
     "end_time": "2019-01-28T13:45:11.806776Z",
     "start_time": "2019-01-28T13:45:11.785817Z"
    }
   },
   "outputs": [],
   "source": [
    "a_1, x_1 = main_(1/3)\n",
    "a_2, x_2 = main_(0.1)\n",
    "a_3, x_3 = main_(0.05)\n",
    "#a_4, x_4 = main_(0.1)"
   ]
  },
  {
   "cell_type": "code",
   "execution_count": 80,
   "metadata": {
    "ExecuteTime": {
     "end_time": "2019-01-28T13:49:38.568694Z",
     "start_time": "2019-01-28T13:49:38.536034Z"
    }
   },
   "outputs": [
    {
     "name": "stdout",
     "output_type": "stream",
     "text": [
      "          x  predicted\n",
      "0  0.333333   0.074626\n",
      "1  0.666667   0.249913\n",
      "2  1.000000   0.477505\n",
      "\n",
      "     x  predicted\n",
      "0  0.1   0.011152\n",
      "1  0.2   0.041242\n",
      "2  0.3   0.084671\n",
      "3  0.4   0.137779\n",
      "4  0.5   0.198286\n",
      "5  0.6   0.264896\n",
      "6  0.7   0.337010\n",
      "7  0.8   0.414531\n",
      "8  0.9   0.497722\n",
      "9  1.0   0.587115\n",
      "\n",
      "       x  predicted\n",
      "0   0.05   0.003159\n",
      "1   0.10   0.012111\n",
      "2   0.15   0.025902\n",
      "3   0.20   0.043747\n",
      "4   0.25   0.065007\n",
      "5   0.30   0.089161\n",
      "6   0.35   0.115797\n",
      "7   0.40   0.144584\n",
      "8   0.45   0.175270\n",
      "9   0.50   0.207662\n",
      "10  0.55   0.241620\n",
      "11  0.60   0.277049\n",
      "12  0.65   0.313891\n",
      "13  0.70   0.352122\n",
      "14  0.75   0.391742\n",
      "15  0.80   0.432776\n",
      "16  0.85   0.475268\n",
      "17  0.90   0.519280\n",
      "18  0.95   0.564888\n",
      "19  1.00   0.612182\n"
     ]
    }
   ],
   "source": [
    "import pandas as pd\n",
    "print(pd.DataFrame(np.column_stack((x_1, a_1)), columns=[\"x\", \"predicted\"]))\n",
    "print()\n",
    "print(pd.DataFrame(np.column_stack((x_2, a_2)), columns=[\"x\", \"predicted\"]))\n",
    "print()\n",
    "print(pd.DataFrame(np.column_stack((x_3, a_3)), columns=[\"x\", \"predicted\"]))"
   ]
  },
  {
   "cell_type": "code",
   "execution_count": 82,
   "metadata": {
    "ExecuteTime": {
     "end_time": "2019-01-28T13:50:25.784627Z",
     "start_time": "2019-01-28T13:50:25.594381Z"
    }
   },
   "outputs": [
    {
     "data": {
      "image/png": "[encoded data removed]",
      "text/plain": [
       "<Figure size 960x800 with 1 Axes>"
      ]
     },
     "metadata": {},
     "output_type": "display_data"
    }
   ],
   "source": [
    "import matplotlib.pyplot as plt\n",
    "from matplotlib.pyplot import figure\n",
    "figure(num=None, figsize=(12, 10), dpi=80, facecolor='w', edgecolor='k')\n",
    "\n",
    "plt.plot(x_1, a_1, 'ro', label = 'h = 1/3')\n",
    "plt.plot(x_2, (a_2),  'gx', label = 'h = 0.1')\n",
    "plt.plot(x_3, (a_3),  'bo', label = 'h = 0.05')\n",
    "#plt.plot(x_4, (a_4), 'yo', label = 'h = 0.1')\n",
    "plt.legend(loc='best')\n",
    "plt.show()"
   ]
  },
  {
   "cell_type": "code",
   "execution_count": null,
   "metadata": {},
   "outputs": [],
   "source": []
  }
 ],
 "metadata": {
  "kernelspec": {
   "display_name": "Python 3",
   "language": "python",
   "name": "python3"
  },
  "language_info": {
   "codemirror_mode": {
    "name": "ipython",
    "version": 3
   },
   "file_extension": ".py",
   "mimetype": "text/x-python",
   "name": "python",
   "nbconvert_exporter": "python",
   "pygments_lexer": "ipython3",
   "version": "3.6.5"
  }
 },
 "nbformat": 4,
 "nbformat_minor": 2
}
