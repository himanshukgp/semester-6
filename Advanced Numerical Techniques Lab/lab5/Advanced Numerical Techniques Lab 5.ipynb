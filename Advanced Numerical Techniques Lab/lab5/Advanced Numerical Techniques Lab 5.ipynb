{
 "cells": [
  {
   "cell_type": "markdown",
   "metadata": {},
   "source": [
    "# Lab 5"
   ]
  },
  {
   "cell_type": "markdown",
   "metadata": {},
   "source": [
    "## Quasilinearization Technique\n",
    "\n",
    "The non-linear ODE/PDE is linearized iteratively. \n",
    "\n",
    "Non-linear BVP is \n",
    "$$F(y'', y', y, x) = 0 \\\\\n",
    "y(a)\\; = \\;y_a \\;,\\; y(b) \\;=\\; y_b \\qquad a < x < b$$\n",
    "\n",
    "Treat F as a function of y'',y' and y at any x. At every iteration F is reduced to a linear form. At (k+1)th iteration expand F about the known form of y'', y', y evaluated at the kth iteraton i.e. $y''^{(k)}$, $y'^{(k)}$, $y^{(k)}$. \n",
    "\n",
    "Expand  $F(y'', y', y, x) = 0$ about $y''^{(k)}$, $y'^{(k)}$, $y^{(k)}$ by the taylor series expansion.\n",
    "\n"
   ]
  },
  {
   "cell_type": "markdown",
   "metadata": {},
   "source": [
    "### Question 5a\n",
    "$$y'' + (y')^2 - y^2 + y + 1 = 0 \\\\\n",
    "y(0) = \\frac{1}{2} \\; , \\; y(\\pi)\\;=\\;-\\frac{1}{2}$$"
   ]
  },
  {
   "cell_type": "code",
   "execution_count": 1,
   "metadata": {
    "ExecuteTime": {
     "end_time": "2019-02-11T18:27:12.760464Z",
     "start_time": "2019-02-11T18:27:07.905792Z"
    }
   },
   "outputs": [],
   "source": [
    "import numpy as np\n",
    "import pandas as pd"
   ]
  },
  {
   "cell_type": "code",
   "execution_count": 83,
   "metadata": {
    "ExecuteTime": {
     "end_time": "2019-02-11T16:37:38.573470Z",
     "start_time": "2019-02-11T16:37:38.569035Z"
    }
   },
   "outputs": [],
   "source": [
    "x1 = 0\n",
    "x2 = np.pi\n",
    "y1 = 0.5\n",
    "y2 = -0.5\n",
    "ep = 0.0001"
   ]
  },
  {
   "cell_type": "code",
   "execution_count": 84,
   "metadata": {
    "ExecuteTime": {
     "end_time": "2019-02-11T16:37:38.997069Z",
     "start_time": "2019-02-11T16:37:38.983353Z"
    }
   },
   "outputs": [],
   "source": [
    "def thomas_(a,b,c,d):\n",
    "    c_ = np.zeros(c.size)\n",
    "    d_ = np.zeros(d.size)\n",
    "\n",
    "    c_[0] = c[0]/b[0]\n",
    "    d_[0] = d[0]/b[0]\n",
    "\n",
    "    for i in range(1, c.shape[0]-1):\n",
    "        c_[i] = c[i]/(b[i] - a[i]*c_[i-1])\n",
    "\n",
    "    for i in range(1, d.shape[0]):\n",
    "        d_[i] = (d[i] - a[i]*d_[i-1])/(b[i] - a[i]*c_[i-1])\n",
    "\n",
    "    return [c_, d_]\n",
    "\n",
    "def mod(a):\n",
    "    if a>0:\n",
    "        return a\n",
    "    return -1*a\n",
    "\n",
    "def main_(n=3):\n",
    "    h = np.pi/n\n",
    "    \n",
    "    y = np.zeros(n+1)\n",
    "    x_f = np.zeros(n+1)\n",
    "    \n",
    "    \n",
    "    \n",
    "    for i in range(n+1):\n",
    "        x_f[i] = (i)*h\n",
    "        y[i] = 0.5 - np.sin(i*h/2)\n",
    "    \n",
    "    \n",
    "    flag = 0\n",
    "    while flag!=1:\n",
    "        a = np.zeros(n-1)\n",
    "        b = np.zeros(n-1)\n",
    "        c = np.zeros(n-1)\n",
    "        d = np.zeros(n-1)\n",
    "        res = np.zeros(n-1)\n",
    "        \n",
    "        \n",
    "        for i in range(n-1):\n",
    "            a[i] = ( 1/(h*h) + (1/(2*h*h))*(y[i+2]-y[i]) )\n",
    "\n",
    "        for i in range(n-1):\n",
    "            b[i] = ( -2/(h*h) - 2*y[i+1] + 1 )\n",
    "\n",
    "        for i in range(n-1):\n",
    "            c[i] = ( 1/(h*h) - (1/(2*h*h))*(y[i+2]-y[i]) )\n",
    "            \n",
    "        for i in range(n-1):\n",
    "            d[i] = ( -1*((y[i+2]-y[i])/(2*h)) * ((y[i+2]-y[i])/(2*h)) - y[i+1]*y[i+1] - 1 )\n",
    "            \n",
    "        d[0] = d[0] - 0.5 * a[0]\n",
    "        d[-1] = d[-1] + 0.5*c[-1]\n",
    "\n",
    "        c_, d_ = thomas_(a,b,c,d)\n",
    "\n",
    "        res[-1] = d_[-1]\n",
    "        for i in range(n-2):\n",
    "            res[n-3-i] = d_[n-3-i] - res[n-2-i]*c_[n-3-i]\n",
    "        \n",
    "#         print(res)\n",
    "#         print(y)\n",
    "        \n",
    "        flag=1\n",
    "        for i in range(n-1):\n",
    "            if mod(y[i+1]-res[i]) > ep:\n",
    "                flag=0\n",
    "        \n",
    "        for i in range(1,n):\n",
    "            y[i] = res[i-1]\n",
    "            \n",
    "        \n",
    "    return [y, x_f]"
   ]
  },
  {
   "cell_type": "code",
   "execution_count": 85,
   "metadata": {
    "ExecuteTime": {
     "end_time": "2019-02-11T16:37:39.654319Z",
     "start_time": "2019-02-11T16:37:39.646805Z"
    }
   },
   "outputs": [
    {
     "name": "stdout",
     "output_type": "stream",
     "text": [
      "1.0471975511965976 0.4487989505128276 0.241660973353061 0.10471975511965977\n"
     ]
    }
   ],
   "source": [
    "a_1, x_1 = main_(3)\n",
    "a_2, x_2 = main_(7)\n",
    "a_3, x_3 = main_(13)\n",
    "a_4, x_4 = main_(30)\n",
    "\n",
    "print(np.pi/3, np.pi/7, np.pi/13, np.pi/30)"
   ]
  },
  {
   "cell_type": "code",
   "execution_count": 86,
   "metadata": {
    "ExecuteTime": {
     "end_time": "2019-02-11T16:37:40.146338Z",
     "start_time": "2019-02-11T16:37:40.131632Z"
    }
   },
   "outputs": [
    {
     "name": "stdout",
     "output_type": "stream",
     "text": [
      "          x  predicted\n",
      "0  0.000000   0.500000\n",
      "1  1.047198  -0.238223\n",
      "2  2.094395  -1.105326\n",
      "3  3.141593  -0.500000\n",
      "\n",
      "          x  predicted\n",
      "0  0.000000   0.500000\n",
      "1  0.448799   0.100454\n",
      "2  0.897598  -0.341629\n",
      "3  1.346397  -0.723208\n",
      "4  1.795196  -0.959690\n",
      "5  2.243995  -0.999674\n",
      "6  2.692794  -0.834517\n",
      "7  3.141593  -0.500000\n",
      "\n",
      "           x  predicted\n",
      "0   0.000000   0.500000\n",
      "1   0.241661   0.283144\n",
      "2   0.483322   0.047274\n",
      "3   0.724983  -0.192958\n",
      "4   0.966644  -0.422884\n",
      "5   1.208305  -0.628620\n",
      "6   1.449966  -0.797822\n",
      "7   1.691627  -0.920378\n",
      "8   1.933288  -0.988979\n",
      "9   2.174949  -0.999536\n",
      "10  2.416610  -0.951422\n",
      "11  2.658271  -0.847503\n",
      "12  2.899932  -0.693973\n",
      "13  3.141593  -0.500000\n",
      "\n",
      "           x  predicted\n",
      "0   0.000000   0.500000\n",
      "1   0.104720   0.407202\n",
      "2   0.209440   0.309832\n",
      "3   0.314159   0.208974\n",
      "4   0.418879   0.105750\n",
      "5   0.523599   0.001304\n",
      "6   0.628319  -0.103206\n",
      "7   0.733038  -0.206626\n",
      "8   0.837758  -0.307812\n",
      "9   0.942478  -0.405647\n",
      "10  1.047198  -0.499052\n",
      "11  1.151917  -0.586998\n",
      "12  1.256637  -0.668515\n",
      "13  1.361357  -0.742704\n",
      "14  1.466077  -0.808750\n",
      "15  1.570796  -0.865925\n",
      "16  1.675516  -0.913598\n",
      "17  1.780236  -0.951246\n",
      "18  1.884956  -0.978455\n",
      "19  1.989675  -0.994924\n",
      "20  2.094395  -1.000472\n",
      "21  2.199115  -0.995038\n",
      "22  2.303835  -0.978682\n",
      "23  2.408554  -0.951585\n",
      "24  2.513274  -0.914044\n",
      "25  2.617994  -0.866472\n",
      "26  2.722714  -0.809394\n",
      "27  2.827433  -0.743437\n",
      "28  2.932153  -0.669328\n",
      "29  3.036873  -0.587883\n",
      "30  3.141593  -0.500000\n"
     ]
    }
   ],
   "source": [
    "import pandas as pd\n",
    "print(pd.DataFrame(np.column_stack((x_1, a_1)), columns=[\"x\", \"predicted\"]))\n",
    "print()\n",
    "print(pd.DataFrame(np.column_stack((x_2, a_2)), columns=[\"x\", \"predicted\"]))\n",
    "print()\n",
    "print(pd.DataFrame(np.column_stack((x_3, a_3)), columns=[\"x\", \"predicted\"]))\n",
    "print()\n",
    "print(pd.DataFrame(np.column_stack((x_4, a_4)), columns=[\"x\", \"predicted\"]))"
   ]
  },
  {
   "cell_type": "code",
   "execution_count": 87,
   "metadata": {
    "ExecuteTime": {
     "end_time": "2019-02-11T16:37:43.817186Z",
     "start_time": "2019-02-11T16:37:43.634550Z"
    }
   },
   "outputs": [
    {
     "data": {
      "image/png": "[encoded data removed]",
      "text/plain": [
       "<Figure size 960x800 with 1 Axes>"
      ]
     },
     "metadata": {},
     "output_type": "display_data"
    }
   ],
   "source": [
    "import matplotlib.pyplot as plt\n",
    "from matplotlib.pyplot import figure\n",
    "figure(num=None, figsize=(12, 10), dpi=80, facecolor='w', edgecolor='k')\n",
    "\n",
    "plt.plot(x_1, a_1, 'ro', label = 'h = 1.0472')\n",
    "plt.plot(x_2, (a_2),  'mx', label = 'h = 0.4487')\n",
    "plt.plot(x_3, (a_3),  'ko', label = 'h = 0.2416')\n",
    "plt.plot(x_4, (a_4), 'c-', label = 'h = 0.1047')\n",
    "plt.legend(loc='best')\n",
    "plt.show()"
   ]
  },
  {
   "cell_type": "markdown",
   "metadata": {},
   "source": [
    "\\pagebreak"
   ]
  },
  {
   "cell_type": "markdown",
   "metadata": {},
   "source": [
    "## Question 5b. Solve by Quasilinearization technique\n",
    "\n",
    "$$ f''' + ff' + (f')^2 = 0 $$\n",
    "\n",
    "$$f(0) = 0 \\\\\n",
    "f''(0) = 0 \\\\\n",
    "f'(10) = 10$$\n"
   ]
  },
  {
   "cell_type": "code",
   "execution_count": 2,
   "metadata": {
    "ExecuteTime": {
     "end_time": "2019-02-11T18:27:12.774177Z",
     "start_time": "2019-02-11T18:27:12.766644Z"
    }
   },
   "outputs": [],
   "source": [
    "x1 = 0\n",
    "x2 = 10\n",
    "y1_ = 0\n",
    "y2_ = 0"
   ]
  },
  {
   "cell_type": "code",
   "execution_count": 54,
   "metadata": {
    "ExecuteTime": {
     "end_time": "2019-02-11T19:11:12.922891Z",
     "start_time": "2019-02-11T19:11:12.883668Z"
    }
   },
   "outputs": [],
   "source": [
    "def thomas_(a,b,c,d):\n",
    "    c_ = np.zeros(c.shape)\n",
    "    d_ = np.zeros(d.shape)\n",
    "\n",
    "    c_[0] = np.dot(np.linalg.inv(b[0]), c[0] )\n",
    "    d_[0] = np.dot(np.linalg.inv(b[0]), d[0] )\n",
    "\n",
    "    for i in range(1, c.shape[0]-1):\n",
    "        c_[i] = np.dot( np.linalg.inv(b[i] - np.dot(a[i], c_[i-1])), c[i] )\n",
    "\n",
    "    for i in range(1, d.shape[0]):\n",
    "        d_[i] = np.dot( np.linalg.inv(b[i] - np.dot(a[i], c_[i-1])), d[i] - np.dot(a[i], d_[i-1]) )\n",
    "\n",
    "    return [c_, d_]\n",
    "\n",
    "def mod(a):\n",
    "    if a>0:\n",
    "        return a\n",
    "    return -1*a\n",
    "\n",
    "def main_(n=3):\n",
    "    ep = 0.0001\n",
    "    h = (x2-x1)/n\n",
    "\n",
    "    a = np.zeros((n-1,2,2))\n",
    "    b = np.zeros((n-1,2,2))\n",
    "    c = np.zeros((n-1,2,2))\n",
    "    d = np.zeros((n-1,2))\n",
    "    x_f = np.zeros((n+1)) \n",
    "    \n",
    "    f = np.zeros(n+1)\n",
    "    F = np.zeros(n+1)\n",
    "    for i in range(n+1):\n",
    "        x_f[i] = x1 + i*h\n",
    "        f[i] = x_f[i]*x_f[i]*x_f[i]/3 - 100*x_f[i]\n",
    "        F[i] = x_f[i]*x_f[i]-100\n",
    "    \n",
    "    print(x_f)\n",
    "    print(f)\n",
    "    print(F)\n",
    "    \n",
    "    res_final = np.zeros(n+1)\n",
    "    res_final = f\n",
    "    \n",
    "    flag=140\n",
    "    while flag!=1:\n",
    "        \n",
    "        for i in range(0, n-1):\n",
    "            a[i][0][0] = -1\n",
    "            a[i][0][1] = -1*h/2\n",
    "            a[i][1][0] = 0\n",
    "            a[i][1][1] = 1/(h*h) - f[i+1]/(2*h)\n",
    "\n",
    "        for i in range(0, n-1):\n",
    "            b[i][0][0] = 1\n",
    "            b[i][0][1] = -1*h/2\n",
    "            b[i][1][0] = (F[i+2]-F[i])/(2*h)\n",
    "            b[i][1][1] = -2/(h*h) + 2*F[i+1]\n",
    "\n",
    "        for i in range(0, n-1):\n",
    "            c[i][0][0] = 0\n",
    "            c[i][0][1] = 0\n",
    "            c[i][1][0] = 0\n",
    "            c[i][1][1] = 1/(h*h) + f[i+1]/(2*h)\n",
    "\n",
    "        for i in range(0, n-1):\n",
    "            d[i][0] = 0\n",
    "            d[i][1] = F[i+1]*F[i+1] + f[i+1]*(F[i+2]-F[i])/(2*h)\n",
    "\n",
    "        #d[-1][1] = d[-1][1] - c[-1][-1][-1]\n",
    "        \n",
    "        #d[0][1] = d[0][1] + 2*h/3\n",
    "        b[0][0][1] = b[0][0][1] + (4/3)*(-1*h/2)\n",
    "        c[0][0][1] = c[0][0][1] + (-1/3)*(-1*h/2)\n",
    "        b[0][1][1] = b[0][1][1] + (4/3)*(1/(h*h) - f[1]/(2*h))\n",
    "        c[0][1][1] = c[0][1][1] + (-1/3)*(1/(h*h) - f[1]/(2*h))\n",
    "\n",
    "\n",
    "        c_,d_ = thomas_(a,b,c,d)\n",
    "\n",
    "        res = np.zeros((n-1,2))\n",
    "\n",
    "        res[-1] = d_[-1]\n",
    "        for i in range(n-2):\n",
    "            res[n-3-i] = d_[n-3-i] - np.dot(c_[n-3-i], res[n-2-i])\n",
    "            #print(np.dot(c_[n-3-i],res[n-2-i]))\n",
    "        print(res[:,0])\n",
    "        \n",
    "#         flag=1\n",
    "#         for i in range(n-1):\n",
    "#             if mod(f[i+1]-res[i, 0]) > ep or mod(F[i+1]-res[i,1]) > ep:\n",
    "#                 flag=0\n",
    "\n",
    "        flag = flag-1\n",
    "\n",
    "        f[1:-1] = res[:,0]\n",
    "        F[1:-1] = res[:,1]\n",
    "        \n",
    "    return [res_final, x_f]"
   ]
  },
  {
   "cell_type": "code",
   "execution_count": 55,
   "metadata": {
    "ExecuteTime": {
     "end_time": "2019-02-11T19:11:13.552054Z",
     "start_time": "2019-02-11T19:11:13.438188Z"
    }
   },
   "outputs": [
    {
     "name": "stdout",
     "output_type": "stream",
     "text": [
      "[ 0.  2.  4.  6.  8. 10.]\n",
      "[   0.         -197.33333333 -378.66666667 -528.         -629.33333333\n",
      " -666.66666667]\n",
      "[-100.  -96.  -84.  -64.  -36.    0.]\n",
      "[ -98.115176   -188.03552638 -262.03695552 -311.74007522]\n",
      "[-27.11417512 -53.49485418 -82.81406363 -95.08249996]\n",
      "[ -5.75459156  24.53852534 -19.69504242  55.48251659]\n",
      "[ -4.91643993   8.14904629 -16.07281838  20.99095437]\n",
      "[ -4.59095433  -0.41631544 -15.04481796   2.83127595]\n",
      "[ -4.58436538  -5.96741189 -17.49641355  -9.70900619]\n",
      "[-4.49820864 -4.24716314 -7.58970989 -2.95935836]\n",
      "[-4.50327661 -5.7624105  -8.56357017 -6.47039941]\n",
      "[ -4.58079909  -7.04233151 -10.47628001  -9.79802435]\n",
      "[-4.65650936 -7.05659105 -9.93609882 -9.52446192]\n",
      "[ -4.73705512  -7.21734816 -10.14243935  -9.79719656]\n",
      "[ -4.81979848  -7.33545903 -10.29880646  -9.95394868]\n",
      "[ -4.90474455  -7.45630408 -10.45879016 -10.11388166]\n",
      "[ -4.99197394  -7.58033435 -10.62286272 -10.27788897]\n",
      "[ -5.08157145  -7.70766629 -10.79117948 -10.44611904]\n",
      "[ -5.17362604  -7.83842349 -10.96389818 -10.61872876]\n",
      "[ -5.2682311   -7.97273569 -11.14118454 -10.79588286]\n",
      "[ -5.36548472  -8.1107392  -11.32321267 -10.9777544 ]\n",
      "[ -5.46549001  -8.25257726 -11.51016555 -11.16452528]\n",
      "[ -5.5683554   -8.39840053 -11.70223563 -11.35638679]\n",
      "[ -5.67419499  -8.54836757 -11.89962546 -11.55354027]\n",
      "[ -5.78312897  -8.70264536 -12.10254837 -11.75619776]\n",
      "[ -5.89528399  -8.8614099  -12.31122916 -11.96458274]\n",
      "[ -6.0107936   -9.02484678 -12.52590496 -12.17893089]\n",
      "[ -6.1297988   -9.19315192 -12.74682604 -12.399491  ]\n",
      "[ -6.25244849  -9.36653224 -12.97425676 -12.62652584]\n",
      "[ -6.37890006  -9.54520649 -13.20847658 -12.86031321]\n",
      "[ -6.50932004  -9.72940608 -13.44978119 -13.10114702]\n",
      "[ -6.64388477  -9.91937609 -13.69848369 -13.34933849]\n",
      "[ -6.7827811  -10.11537621 -13.95491589 -13.60521747]\n",
      "[ -6.92620725 -10.31768195 -14.21942983 -13.86913386]\n",
      "[ -7.07437367 -10.52658581 -14.49239924 -14.14145919]\n",
      "[ -7.22750403 -10.74239865 -14.77422137 -14.42258832]\n",
      "[ -7.38583625 -10.9654512  -15.06531883 -14.71294135]\n",
      "[ -7.54962371 -11.19609567 -15.3661417  -15.01296566]\n",
      "[ -7.71913653 -11.43470754 -15.67716983 -15.32313824]\n",
      "[ -7.89466301 -11.68168754 -15.99891535 -15.64396818]\n",
      "[ -8.07651115 -11.93746389 -16.33192552 -15.97599947]\n",
      "[ -8.26501049 -12.20249466 -16.6767858  -16.31981409]\n",
      "[ -8.46051398 -12.47727055 -17.03412334 -16.67603544]\n",
      "[ -8.66340014 -12.7623178  -17.40461076 -17.04533216]\n",
      "[ -8.87407551 -13.05820159 -17.78897047 -17.42842236]\n",
      "[ -9.09297725 -13.36552975 -18.18797942 -17.82607837]\n",
      "[ -9.32057624 -13.68495695 -18.60247444 -18.23913205]\n",
      "[ -9.55738037 -14.01718936 -19.03335823 -18.66848077]\n",
      "[ -9.80393836 -14.36298992 -19.48160611 -19.11509404]\n",
      "[-10.060844   -14.72318429 -19.9482736  -19.58002112]\n",
      "[-10.32874102 -15.09866756 -20.43450498 -20.06439954]\n",
      "[-10.60832852 -15.49041184 -20.94154307 -20.56946473]\n",
      "[-10.9003672  -15.8994749  -21.47074022 -21.09656107]\n",
      "[-11.20568643 -16.32701006 -22.02357098 -21.64715439]\n",
      "[-11.52519239 -16.77427744 -22.60164649 -22.22284629]\n",
      "[-11.85987733 -17.24265689 -23.20673103 -22.82539064]\n",
      "[-12.21083034 -17.73366294 -23.8407611  -23.45671251]\n",
      "[-12.57924969 -18.248962   -24.50586746 -24.11893009]\n",
      "[-12.96645724 -18.79039238 -25.20440071 -24.81438011]\n",
      "[-13.37391523 -19.3599876  -25.93896114 -25.54564754]\n",
      "[-13.80324586 -19.9600037  -26.71243361 -26.31560023]\n",
      "[-14.25625439 -20.59295137 -27.52802866 -27.12742982]\n",
      "[-14.73495649 -21.26163389 -28.38933106 -27.98469997]\n",
      "[-15.24161061 -21.96919229 -29.30035752 -28.89140374]\n",
      "[-15.77875682 -22.71915926 -30.26562568 -29.8520322 ]\n",
      "[-16.34926341 -23.51552404 -31.29023708 -30.87165688]\n",
      "[-16.95638337 -24.36281092 -32.3799776  -31.95602961]\n",
      "[-17.60382323 -25.26617503 -33.54143986 -33.11170428]\n",
      "[-18.29582754 -26.23151984 -34.78217363 -34.34618626]\n",
      "[-19.03728363 -27.26564284 -36.11087206 -35.66811762]\n",
      "[-19.8338524  -28.3764175  -37.53760439 -37.08750843]\n",
      "[-20.69213341 -29.57302282 -39.07410961 -38.61602868]\n",
      "[-21.61987538 -30.86623616 -40.73417086 -40.26738056]\n",
      "[-22.62624778 -32.26881101 -42.53409859 -42.0577787 ]\n",
      "[-23.72219585 -33.79597069 -44.49336205 -44.00657795]\n",
      "[-24.92091126 -35.46606306 -46.63542646 -46.13710572]\n",
      "[-26.23846629 -37.30144255 -48.98888111 -48.47778336]\n",
      "[-27.69468384 -39.32968018 -51.58898688 -51.06366458]\n",
      "[-29.31435553 -41.58525781 -54.47984289 -53.93858946]\n",
      "[-31.12898764 -44.11199648 -57.71749218 -57.15827177]\n",
      "[-33.17937204 -46.96663219 -61.37449461 -60.79484506]\n",
      "[-35.51949342 -50.22425024 -65.54687676 -64.94377162]\n",
      "[-38.22269363 -53.98685889 -70.3650965  -69.73474267]\n",
      "[-41.39184591 -58.39754014 -76.01213994 -75.34966879]\n",
      "[-45.17710562 -63.66513814 -82.7550945  -82.05406736]\n",
      "[-49.80912758 -70.11045912 -91.00423205 -90.25579814]\n",
      "[ -55.66718531  -78.26101412 -101.43417099 -100.62551258]\n",
      "[ -63.43750802  -89.07123931 -115.26550507 -114.37662582]\n",
      "[ -74.55552307 -104.53758104 -135.05140338 -134.04728876]\n",
      "[ -92.87705615 -130.02285278 -167.65010429 -166.45539252]\n",
      "[-136.67701918 -190.94438679 -245.56649705 -243.91458356]\n",
      "[ 86.89784219 120.00855484 152.09002804 151.4014815 ]\n",
      "[ 82.79505254 114.25197039 144.61347495 143.94881569]\n",
      "[ 79.03545793 109.01980055 137.91484729 137.28826978]\n",
      "[ 75.58229789 104.21612237 131.76952351 131.17871688]\n",
      "[ 72.4035986   99.79424708 126.11264124 125.55476273]\n",
      "[ 69.47131765  95.71507171 120.89395682 120.36641696]\n",
      "[ 66.76079726  91.94430029 116.06960794 115.57007475]\n",
      "[ 64.25030578  88.45171087 111.60095233 111.12732238]\n",
      "[ 61.92064681  85.21060746 107.45385662 107.00422849]\n",
      "[ 59.754825    82.19735506 103.5981014  103.17075254]\n",
      "[ 57.73775992  79.39098176 100.0068724   99.60023898]\n",
      "[55.85604063 76.77283746 96.65632404 96.26898344]\n",
      "[54.09771487 74.32630058 93.52520451 93.15585995]\n",
      "[52.45210749 72.03652564 90.59453293 90.24200004]\n",
      "[50.9096639  69.89022551 87.84732098 87.51051603]\n",
      "[49.46181481 67.87548327 85.26833228 84.9462618 ]\n",
      "[48.100859   65.98158925 82.84387409 82.53562576]\n",
      "[46.81986175 64.19889973 80.56161655 80.26635112]\n",
      "[45.61256646 62.51871402 78.41043558 78.12737971]\n",
      "[44.47331767 60.93316741 76.38027597 76.10871598]\n",
      "[43.39699389 59.4351378  74.46203198 74.20130815]\n",
      "[42.37894886 58.01816392 72.64744285 72.39694444]\n",
      "[41.41496004 56.67637383 70.92900123 70.68816206]\n",
      "[40.50118346 55.40442199 69.29987289 69.0681673 ]\n",
      "[39.63411396 54.19743403 67.75382596 67.53076527]\n",
      "[38.81055011 53.05095798 66.28516867 66.07029798]\n",
      "[38.02756334 51.9609213  64.88869435 64.68158966]\n",
      "[37.28247052 50.92359282 63.55963276 63.35989837]\n",
      "[36.57280978 49.93554898 62.29360699 62.1008732 ]\n",
      "[35.89631891 48.99364395 61.08659517 60.90051616]\n",
      "[35.25091629 48.09498298 59.93489648 59.7551484 ]\n",
      "[34.63468378 47.23689869 58.83510079 58.66138003]\n",
      "[34.04585158 46.41692996 57.78406161 57.61608327]\n",
      "[33.48278456 45.63280295 56.77887195 56.61636838]\n",
      "[32.94397011 44.88241422 55.81684266 55.65956219]\n",
      "[32.42800727 44.16381555 54.89548303 54.74318878]\n",
      "[31.93359688 43.47520032 54.01248334 53.86495217]\n",
      "[31.45953279 42.81489121 53.16569924 53.02272073]\n",
      "[31.00469391 42.18132923 52.3531376  52.21451318]\n",
      "[30.56803708 41.5730637  51.5729438  51.43848591]\n",
      "[30.14859056 40.98874332 50.82339022 50.69292158]\n",
      "[29.74544822 40.42710797 50.10286586 49.97621875]\n",
      "[29.35776423 39.8869814  49.4098669  49.28688252]\n",
      "[28.98474823 39.36726451 48.74298816 48.62351607]\n",
      "[28.62566103 38.86692931 48.10091536 47.98481294]\n",
      "[28.27981056 38.3850134  47.48241806 47.36954997]\n",
      "[27.94654833 37.9206149  46.88634323 46.77658099]\n",
      "[27.6252661  37.47288797 46.3116094  46.20483095]\n",
      "[27.31539289 37.04103853 45.75720133 45.65329063]\n",
      "[27.01639222 36.6243205  45.22216513 45.1210118 ]\n",
      "[26.72775961 36.2220323  44.70560377 44.60710275]\n"
     ]
    }
   ],
   "source": [
    "a_1, x_1 = main_(5)\n",
    "# a_2, x_2 = main_(6)\n",
    "# a_3, x_3 = main_(11)\n",
    "# a_4, x_4 = main_(13)\n",
    "# a_5, x_5 = main_(17)\n",
    "# a_6, x_6 = main_(400)\n",
    "\n",
    "# print(10/3, 10/6, 10/11, 10/13, 10/17, 10/23)"
   ]
  },
  {
   "cell_type": "code",
   "execution_count": null,
   "metadata": {
    "ExecuteTime": {
     "end_time": "2019-02-11T18:35:05.915976Z",
     "start_time": "2019-02-11T18:34:55.803Z"
    }
   },
   "outputs": [],
   "source": [
    "import pandas as pd\n",
    "print(pd.DataFrame(np.column_stack((x_1, a_1)), columns=[\"x\", \"predicted\"]))\n",
    "print()\n",
    "print(pd.DataFrame(np.column_stack((x_2, a_2)), columns=[\"x\", \"predicted\"]))\n",
    "print()\n",
    "print(pd.DataFrame(np.column_stack((x_3, a_3)), columns=[\"x\", \"predicted\"]))\n",
    "print()\n",
    "print(pd.DataFrame(np.column_stack((x_4, a_4)), columns=[\"x\", \"predicted\"]))\n",
    "print()\n",
    "print(pd.DataFrame(np.column_stack((x_5, a_5)), columns=[\"x\", \"predicted\"]))\n",
    "print()\n",
    "print(pd.DataFrame(np.column_stack((x_6, a_6)), columns=[\"x\", \"predicted\"]))"
   ]
  },
  {
   "cell_type": "code",
   "execution_count": 38,
   "metadata": {
    "ExecuteTime": {
     "end_time": "2019-02-11T18:44:58.749279Z",
     "start_time": "2019-02-11T18:44:58.296316Z"
    },
    "scrolled": true
   },
   "outputs": [
    {
     "data": {
      "image/png": "[encoded data removed]",
      "text/plain": [
       "<Figure size 960x800 with 1 Axes>"
      ]
     },
     "metadata": {},
     "output_type": "display_data"
    }
   ],
   "source": [
    "import matplotlib.pyplot as plt\n",
    "from matplotlib.pyplot import figure\n",
    "figure(num=None, figsize=(12, 10), dpi=80, facecolor='w', edgecolor='k')\n",
    "\n",
    "# plt.plot(x_1[:-1], a_1[:-1], 'r-', label = 'h = 3.333')\n",
    "# plt.plot(x_2[:-1], (a_2[:-1]),  'm-', label = 'h = 1.666')\n",
    "plt.plot(x_3[:-1], (a_3[:-1]),  'k-', label = 'h = 0.9091')\n",
    "plt.plot(x_4[:-1], (a_4[:-1]), 'c-', label = 'h = 0.7692')\n",
    "plt.plot(x_5[:-1], (a_5[:-1]), 'b-', label = 'h = 0.5882')\n",
    "plt.plot(x_6[:-1], (a_6[:-1]), 'g-', label = 'h = 0.4347')\n",
    "plt.legend(loc='best')\n",
    "plt.savefig('books_read.png')\n",
    "plt.show()"
   ]
  },
  {
   "cell_type": "code",
   "execution_count": null,
   "metadata": {
    "ExecuteTime": {
     "end_time": "2019-02-11T15:24:29.711559Z",
     "start_time": "2019-02-11T15:24:29.696070Z"
    }
   },
   "outputs": [],
   "source": []
  },
  {
   "cell_type": "code",
   "execution_count": 15,
   "metadata": {
    "ExecuteTime": {
     "end_time": "2019-02-11T18:29:04.011298Z",
     "start_time": "2019-02-11T18:29:03.992912Z"
    }
   },
   "outputs": [
    {
     "data": {
      "application/javascript": [
       "IPython.OutputArea.prototype._should_scroll = function(lines) {\n",
       "    return false;\n",
       "}\n"
      ],
      "text/plain": [
       "<IPython.core.display.Javascript object>"
      ]
     },
     "metadata": {},
     "output_type": "display_data"
    }
   ],
   "source": [
    "%%javascript\n",
    "IPython.OutputArea.prototype._should_scroll = function(lines) {\n",
    "    return false;\n",
    "}"
   ]
  },
  {
   "cell_type": "code",
   "execution_count": null,
   "metadata": {},
   "outputs": [],
   "source": []
  }
 ],
 "metadata": {
  "kernelspec": {
   "display_name": "Python (data)",
   "language": "python",
   "name": "data"
  },
  "language_info": {
   "codemirror_mode": {
    "name": "ipython",
    "version": 3
   },
   "file_extension": ".py",
   "mimetype": "text/x-python",
   "name": "python",
   "nbconvert_exporter": "python",
   "pygments_lexer": "ipython3",
   "version": "3.6.7"
  }
 },
 "nbformat": 4,
 "nbformat_minor": 2
}
