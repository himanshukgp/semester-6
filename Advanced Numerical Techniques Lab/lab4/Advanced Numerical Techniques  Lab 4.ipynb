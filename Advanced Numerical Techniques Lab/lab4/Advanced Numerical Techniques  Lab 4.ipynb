{
 "cells": [
  {
   "cell_type": "markdown",
   "metadata": {},
   "source": [
    "# LAB 4"
   ]
  },
  {
   "cell_type": "markdown",
   "metadata": {},
   "source": [
    "## Question 4.a\n",
    "\n",
    "$$y'' - {(y')}^2 - {y}^2 + y + 1 = 0$$\n",
    "\n",
    "wrt: \n",
    "$$y(0) = \\frac{1}{2}$$\n",
    "$$y(\\pi) = -\\frac{1}{2}$$"
   ]
  },
  {
   "cell_type": "code",
   "execution_count": 69,
   "metadata": {
    "ExecuteTime": {
     "end_time": "2019-02-11T16:20:57.808401Z",
     "start_time": "2019-02-11T16:20:57.806142Z"
    }
   },
   "outputs": [],
   "source": [
    "import numpy as np\n",
    "import pandas as pd"
   ]
  },
  {
   "cell_type": "code",
   "execution_count": 70,
   "metadata": {
    "ExecuteTime": {
     "end_time": "2019-02-11T16:20:58.204967Z",
     "start_time": "2019-02-11T16:20:58.202654Z"
    }
   },
   "outputs": [],
   "source": [
    "x1 = 0\n",
    "x2 = np.pi\n",
    "ep = 0.01"
   ]
  },
  {
   "cell_type": "code",
   "execution_count": 71,
   "metadata": {
    "ExecuteTime": {
     "end_time": "2019-02-11T16:20:58.636713Z",
     "start_time": "2019-02-11T16:20:58.623818Z"
    }
   },
   "outputs": [],
   "source": [
    "def thomas_(a,b,c,d):\n",
    "    c_ = np.zeros(c.size)\n",
    "    d_ = np.zeros(d.size)\n",
    "\n",
    "    c_[0] = c[0]/b[0]\n",
    "    d_[0] = d[0]/b[0]\n",
    "\n",
    "    for i in range(1, c.shape[0]-1):\n",
    "        c_[i] = c[i]/(b[i] - a[i]*c_[i-1])\n",
    "\n",
    "    for i in range(1, d.shape[0]):\n",
    "        d_[i] = (d[i] - a[i]*d_[i-1])/(b[i] - a[i]*c_[i-1])\n",
    "\n",
    "    return [c_, d_]\n",
    "\n",
    "\n",
    "def main_(n=3):\n",
    "    h = np.pi/n\n",
    "    \n",
    "    y = np.zeros(n+1)\n",
    "    x_f = np.zeros(n+1)\n",
    "    \n",
    "    \n",
    "    \n",
    "    for i in range(n+1):\n",
    "        x_f[i] = (i)*h\n",
    "        y[i] = 0.5 - np.sin(i*h/2)\n",
    "    \n",
    "    \n",
    "    flag = 0\n",
    "    while flag!=1:\n",
    "        a = np.zeros(n-1)\n",
    "        b = np.zeros(n-1)\n",
    "        c = np.zeros(n-1)\n",
    "        d = np.zeros(n-1)\n",
    "        res = np.zeros(n-1)\n",
    "        \n",
    "        \n",
    "        for i in range(n-1):\n",
    "            a[i] = ( 1/(h*h) - (y[i+2] - y[i])/(2*h*h) )\n",
    "\n",
    "        for i in range(n-1):\n",
    "            b[i] = ( -2/(h*h) - 2*y[i+1] + 1 )\n",
    "\n",
    "        for i in range(n-1):\n",
    "            c[i] = ( 1/(h*h) - (y[i+2] - y[i])/(2*h*h) )\n",
    "            \n",
    "        for i in range(n-1):\n",
    "            d[i] = ( -1*(y[i]-2*y[i+1]+y[i+2])/(h*h) \n",
    "                    + ((y[i+2] - y[i])*(y[i+2] - y[i]))/(4*h*h) \n",
    "                    + y[i+1]*y[i+1] - y[i+1] - 1 )\n",
    "\n",
    "        c_, d_ = thomas_(a,b,c,d)\n",
    "\n",
    "        res[-1] = d_[-1]\n",
    "        for i in range(n-2):\n",
    "            res[n-3-i] = d_[n-3-i] - res[n-2-i]*c_[n-3-i]\n",
    "        \n",
    "        #print(res)\n",
    "        #print(y)\n",
    "        for i in range(1,n):\n",
    "            y[i] = y[i] + res[i-1]\n",
    "        \n",
    "        flag=1\n",
    "        for i in range(n-1):\n",
    "            if res[i]>ep or res[i]<ep*-1 :\n",
    "                flag=0\n",
    "    \n",
    "    \n",
    "        \n",
    "    return [y, x_f]"
   ]
  },
  {
   "cell_type": "code",
   "execution_count": 72,
   "metadata": {
    "ExecuteTime": {
     "end_time": "2019-02-11T16:20:59.093431Z",
     "start_time": "2019-02-11T16:20:59.087633Z"
    }
   },
   "outputs": [
    {
     "name": "stdout",
     "output_type": "stream",
     "text": [
      "1.0471975511965976 0.5235987755982988 0.20943951023931953 0.06283185307179587\n"
     ]
    }
   ],
   "source": [
    "a_1, x_1 = main_(3)\n",
    "a_2, x_2 = main_(5)\n",
    "a_3, x_3 = main_(7)\n",
    "a_4, x_4 = main_(8)\n",
    "\n",
    "print(np.pi/3, np.pi/6, np.pi/15, np.pi/50)"
   ]
  },
  {
   "cell_type": "code",
   "execution_count": 73,
   "metadata": {
    "ExecuteTime": {
     "end_time": "2019-02-11T16:20:59.704909Z",
     "start_time": "2019-02-11T16:20:59.700796Z"
    }
   },
   "outputs": [
    {
     "data": {
      "text/plain": [
       "array([ 0.5       ,  0.09555128, -0.34797797, -0.72536001, -0.95540827,\n",
       "       -0.99105356, -0.82717357, -0.5       ])"
      ]
     },
     "execution_count": 73,
     "metadata": {},
     "output_type": "execute_result"
    }
   ],
   "source": [
    "a_3"
   ]
  },
  {
   "cell_type": "code",
   "execution_count": 74,
   "metadata": {
    "ExecuteTime": {
     "end_time": "2019-02-11T16:21:00.584281Z",
     "start_time": "2019-02-11T16:21:00.453827Z"
    }
   },
   "outputs": [
    {
     "data": {
      "image/png": "[encoded data removed]",
      "text/plain": [
       "<Figure size 480x320 with 1 Axes>"
      ]
     },
     "metadata": {},
     "output_type": "display_data"
    }
   ],
   "source": [
    "import matplotlib.pyplot as plt\n",
    "from matplotlib.pyplot import figure\n",
    "figure(num=None, figsize=(6, 4), dpi=80, facecolor='w', edgecolor='k')\n",
    "\n",
    "plt.plot(x_1, a_1, 'ro', label = 'h = 1.047')\n",
    "plt.plot(x_2, (a_2),  'gx', label = 'h = 0.523')\n",
    "plt.plot(x_3, (a_3),  'b+', label = 'h = 0.209')\n",
    "plt.plot(x_4, (a_4), 'y-', label = 'h = 0.062')\n",
    "plt.legend(loc='best')\n",
    "plt.show()"
   ]
  },
  {
   "cell_type": "markdown",
   "metadata": {},
   "source": [
    "\\pagebreak"
   ]
  },
  {
   "cell_type": "markdown",
   "metadata": {},
   "source": [
    "## Question 4.b\n",
    "\n",
    "$$ y'' = 2 + y^2 $$\n",
    "Subject to:\n",
    "$$y(0) = 0$$\n",
    "$$y(1) = 0$$"
   ]
  },
  {
   "cell_type": "code",
   "execution_count": 77,
   "metadata": {
    "ExecuteTime": {
     "end_time": "2019-02-11T16:21:15.085147Z",
     "start_time": "2019-02-11T16:21:15.082458Z"
    }
   },
   "outputs": [],
   "source": [
    "x1 = 0\n",
    "x2 = 1\n",
    "#h = np.pi/n\n",
    "ep = 0.005"
   ]
  },
  {
   "cell_type": "code",
   "execution_count": 78,
   "metadata": {
    "ExecuteTime": {
     "end_time": "2019-02-11T16:21:18.597877Z",
     "start_time": "2019-02-11T16:21:18.578163Z"
    }
   },
   "outputs": [],
   "source": [
    "def thomas_(a,b,c,d):\n",
    "    c_ = np.zeros(c.size)\n",
    "    d_ = np.zeros(d.size)\n",
    "\n",
    "    c_[0] = c[0]/b[0]\n",
    "    d_[0] = d[0]/b[0]\n",
    "\n",
    "    for i in range(1, c.shape[0]-1):\n",
    "        c_[i] = c[i]/(b[i] - a[i]*c_[i-1])\n",
    "\n",
    "    for i in range(1, d.shape[0]):\n",
    "        d_[i] = (d[i] - a[i]*d_[i-1])/(b[i] - a[i]*c_[i-1])\n",
    "\n",
    "    return [c_, d_]\n",
    "\n",
    "\n",
    "def main_(n=3):\n",
    "    h = x2/n\n",
    "    \n",
    "    y = np.zeros(n+1)\n",
    "    x_f = np.zeros(n+1)\n",
    "    \n",
    "    \n",
    "    \n",
    "    for i in range(n+1):\n",
    "        x_f[i] = x1+(i)*h\n",
    "        y[i] =  x_f[i]*(1-x_f[i])\n",
    "    \n",
    "    flag = 0\n",
    "    while flag!=1:\n",
    "        a = np.zeros(n-1)\n",
    "        b = np.zeros(n-1)\n",
    "        c = np.zeros(n-1)\n",
    "        d = np.zeros(n-1)\n",
    "        res = np.zeros(n-1)\n",
    "        \n",
    "        for i in range(n-1):\n",
    "            res[i] = 0\n",
    "        \n",
    "        for i in range(n-1):\n",
    "            a[i] = ( 1/(h*h) )\n",
    "\n",
    "        for i in range(n-1):\n",
    "            b[i] = ( -2/(h*h) - 2*y[i+1] )\n",
    "\n",
    "        for i in range(n-1):\n",
    "            c[i] = ( 1/(h*h) )\n",
    "            \n",
    "        for i in range(n-1):\n",
    "            d[i] = ( 2 + y[i+1]*y[i+1] - (y[i+2]-2*y[i+1]+y[i])/(h*h) )\n",
    "\n",
    "        c_, d_ = thomas_(a,b,c,d)\n",
    "\n",
    "\n",
    "        res[-1] = d_[-1]\n",
    "        for i in range(n-2):\n",
    "            res[n-3-i] = d_[n-3-i] - res[n-2-i]*c_[n-3-i]\n",
    "                    \n",
    "        for i in range(1,n):\n",
    "            y[i] = y[i] + res[i-1]\n",
    "        \n",
    "        flag=1\n",
    "        for i in range(n-1):\n",
    "            if res[i]>ep or res[i]<ep*-1 :\n",
    "                flag=0\n",
    "    \n",
    "    \n",
    "        \n",
    "    return [y, x_f]"
   ]
  },
  {
   "cell_type": "code",
   "execution_count": 79,
   "metadata": {
    "ExecuteTime": {
     "end_time": "2019-02-11T16:21:20.644444Z",
     "start_time": "2019-02-11T16:21:20.638736Z"
    }
   },
   "outputs": [
    {
     "name": "stdout",
     "output_type": "stream",
     "text": [
      "0.3333333333333333 0.1 0.0625 0.02\n"
     ]
    }
   ],
   "source": [
    "a_1, x_1 = main_(3)\n",
    "a_2, x_2 = main_(10)\n",
    "a_3, x_3 = main_(16)\n",
    "a_4, x_4 = main_(30)\n",
    "\n",
    "print(1/3, 1/10, 1/16, 1/50)"
   ]
  },
  {
   "cell_type": "code",
   "execution_count": 80,
   "metadata": {
    "ExecuteTime": {
     "end_time": "2019-02-11T16:21:22.024354Z",
     "start_time": "2019-02-11T16:21:22.005214Z"
    }
   },
   "outputs": [
    {
     "name": "stdout",
     "output_type": "stream",
     "text": [
      "          x  predicted\n",
      "0  0.000000   0.000000\n",
      "1  0.333333  -0.227998\n",
      "2  0.666667  -0.227998\n",
      "3  1.000000   0.000000\n",
      "\n",
      "      x  predicted\n",
      "0   0.0   0.000000\n",
      "1   0.1  -0.091744\n",
      "2   0.2  -0.163404\n",
      "3   0.3  -0.214797\n",
      "4   0.4  -0.245729\n",
      "5   0.5  -0.256057\n",
      "6   0.6  -0.245729\n",
      "7   0.7  -0.214797\n",
      "8   0.8  -0.163404\n",
      "9   0.9  -0.091744\n",
      "10  1.0   0.000000\n",
      "\n",
      "         x  predicted\n",
      "0   0.0000   0.000000\n",
      "1   0.0625  -0.059684\n",
      "2   0.1250  -0.111541\n",
      "3   0.1875  -0.155537\n",
      "4   0.2500  -0.191626\n",
      "5   0.3125  -0.219760\n",
      "6   0.3750  -0.239892\n",
      "7   0.4375  -0.251987\n",
      "8   0.5000  -0.256021\n",
      "9   0.5625  -0.251987\n",
      "10  0.6250  -0.239892\n",
      "11  0.6875  -0.219760\n",
      "12  0.7500  -0.191626\n",
      "13  0.8125  -0.155537\n",
      "14  0.8750  -0.111541\n",
      "15  0.9375  -0.059684\n",
      "16  1.0000   0.000000\n",
      "\n",
      "           x  predicted\n",
      "0   0.000000   0.000000\n",
      "1   0.033333  -0.032803\n",
      "2   0.066667  -0.063384\n",
      "3   0.100000  -0.091737\n",
      "4   0.133333  -0.117859\n",
      "5   0.166667  -0.141743\n",
      "6   0.200000  -0.163382\n",
      "7   0.233333  -0.182770\n",
      "8   0.266667  -0.199899\n",
      "9   0.300000  -0.214760\n",
      "10  0.333333  -0.227349\n",
      "11  0.366667  -0.237657\n",
      "12  0.400000  -0.245681\n",
      "13  0.433333  -0.251415\n",
      "14  0.466667  -0.254857\n",
      "15  0.500000  -0.256005\n",
      "16  0.533333  -0.254857\n",
      "17  0.566667  -0.251415\n",
      "18  0.600000  -0.245681\n",
      "19  0.633333  -0.237657\n",
      "20  0.666667  -0.227349\n",
      "21  0.700000  -0.214760\n",
      "22  0.733333  -0.199899\n",
      "23  0.766667  -0.182770\n",
      "24  0.800000  -0.163382\n",
      "25  0.833333  -0.141743\n",
      "26  0.866667  -0.117859\n",
      "27  0.900000  -0.091737\n",
      "28  0.933333  -0.063384\n",
      "29  0.966667  -0.032803\n",
      "30  1.000000   0.000000\n"
     ]
    }
   ],
   "source": [
    "import pandas as pd\n",
    "print(pd.DataFrame(np.column_stack((x_1, a_1)), columns=[\"x\", \"predicted\"]))\n",
    "print()\n",
    "print(pd.DataFrame(np.column_stack((x_2, a_2)), columns=[\"x\", \"predicted\"]))\n",
    "print()\n",
    "print(pd.DataFrame(np.column_stack((x_3, a_3)), columns=[\"x\", \"predicted\"]))\n",
    "print()\n",
    "print(pd.DataFrame(np.column_stack((x_4, a_4)), columns=[\"x\", \"predicted\"]))"
   ]
  },
  {
   "cell_type": "code",
   "execution_count": 81,
   "metadata": {
    "ExecuteTime": {
     "end_time": "2019-02-11T16:21:32.262438Z",
     "start_time": "2019-02-11T16:21:32.056152Z"
    }
   },
   "outputs": [
    {
     "data": {
      "image/png": "[encoded data removed]",
      "text/plain": [
       "<Figure size 960x800 with 1 Axes>"
      ]
     },
     "metadata": {},
     "output_type": "display_data"
    }
   ],
   "source": [
    "import matplotlib.pyplot as plt\n",
    "from matplotlib.pyplot import figure\n",
    "figure(num=None, figsize=(12, 10), dpi=80, facecolor='w', edgecolor='k')\n",
    "\n",
    "plt.plot(x_1, a_1, 'ro', label = 'h = 0.33')\n",
    "plt.plot(x_2, (a_2),  'mx', label = 'h = 0.1')\n",
    "plt.plot(x_3, (a_3),  'ko', label = 'h = 0.0625')\n",
    "plt.plot(x_4, (a_4), 'c-', label = 'h = 0.02')\n",
    "plt.legend(loc='best')\n",
    "plt.show()"
   ]
  },
  {
   "cell_type": "markdown",
   "metadata": {},
   "source": [
    "\\pagebreak"
   ]
  },
  {
   "cell_type": "markdown",
   "metadata": {},
   "source": [
    "## Question 4.c\n",
    "\n",
    "$$f''' + ff' + 1 + (f')^2 = 0$$\n",
    "\n",
    "wrt: \n",
    "$$f(0) = 0$$\n",
    "$$f'(0) = 1$$\n",
    "$$f'(10) = 1$$"
   ]
  },
  {
   "cell_type": "code",
   "execution_count": 8,
   "metadata": {
    "ExecuteTime": {
     "end_time": "2019-02-11T14:17:17.152636Z",
     "start_time": "2019-02-11T14:17:17.149569Z"
    }
   },
   "outputs": [],
   "source": [
    "x1 = 0\n",
    "x2 = 10\n",
    "y1_ = 0\n",
    "y2_ = 1\n",
    "h = 1"
   ]
  },
  {
   "cell_type": "code",
   "execution_count": 28,
   "metadata": {
    "ExecuteTime": {
     "end_time": "2019-02-11T14:23:22.389829Z",
     "start_time": "2019-02-11T14:23:22.384388Z"
    }
   },
   "outputs": [
    {
     "data": {
      "text/plain": [
       "10"
      ]
     },
     "execution_count": 28,
     "metadata": {},
     "output_type": "execute_result"
    }
   ],
   "source": [
    "int((x2-x1)/h)"
   ]
  },
  {
   "cell_type": "code",
   "execution_count": 62,
   "metadata": {
    "ExecuteTime": {
     "end_time": "2019-02-11T16:19:29.143896Z",
     "start_time": "2019-02-11T16:19:29.124912Z"
    }
   },
   "outputs": [],
   "source": [
    "def thomas_(a,b,c,d):\n",
    "    c_ = np.zeros(c.shape)\n",
    "    d_ = np.zeros(d.shape)\n",
    "\n",
    "    c_[0] = np.dot(np.linalg.inv(b[0]), c[0] )\n",
    "    d_[0] = np.dot(np.linalg.inv(b[0]), d[0] )\n",
    "\n",
    "    for i in range(1, c.shape[0]-1):\n",
    "        c_[i] = np.dot( np.linalg.inv(b[i] - np.dot(a[i], c_[i-1])), c[i] )\n",
    "\n",
    "    for i in range(1, d.shape[0]):\n",
    "        d_[i] = np.dot( np.linalg.inv(b[i] - np.dot(a[i], c_[i-1])), d[i] - np.dot(a[i], d_[i-1]) )\n",
    "\n",
    "    return [c_, d_]\n",
    "\n",
    "\n",
    "def main_(n=3):\n",
    "    e = 0.001\n",
    "    h = (x2-x1)/n\n",
    "\n",
    "    a = np.zeros((n-1,2,2))\n",
    "    b = np.zeros((n-1,2,2))\n",
    "    c = np.zeros((n-1,2,2))\n",
    "    d = np.zeros((n-1,2))\n",
    "    x_f = np.zeros((n+1)) \n",
    "    \n",
    "    f = np.zeros(n+1)\n",
    "    F = np.zeros(n+1)\n",
    "    for i in range(n+1):\n",
    "        x_f[i] = x1 + i*h\n",
    "        f[i] = 101*x_f[i]*x_f[i]/20 - x_f[i]*x_f[i]*x_f[i]/3\n",
    "        F[i] = x_f[i]*(10.1 - x_f[i])\n",
    "#     print(F)\n",
    "#     print(f)\n",
    "    \n",
    "    #print(x_f)\n",
    "    res_final = np.zeros(n-1)\n",
    "    \n",
    "    flag=20\n",
    "    while flag!=1:\n",
    "        \n",
    "        for i in range(0, n-1):\n",
    "            a[i][0][0] = -1\n",
    "            a[i][0][1] = -1*h/2\n",
    "            a[i][1][0] = 0\n",
    "            a[i][1][1] = 1/(h*h) - f[i+1]/(2*h)\n",
    "\n",
    "        for i in range(0, n-1):\n",
    "            b[i][0][0] = 1\n",
    "            b[i][0][1] = -1*h/2\n",
    "            b[i][1][0] = (F[i+2]-F[i])/(2*h)\n",
    "            b[i][1][1] = -2/(h*h) - 2*F[i+1]\n",
    "\n",
    "        for i in range(0, n-1):\n",
    "            c[i][0][0] = 0\n",
    "            c[i][0][1] = 0\n",
    "            c[i][1][0] = 0\n",
    "            c[i][1][1] = 1/(h*h) + f[i+1]/(2*h)\n",
    "\n",
    "        for i in range(0, n-1):\n",
    "            d[i][0] = f[i]-f[i+1]+(h/2)*(F[i+1]+F[i])\n",
    "            d[i][1] = -1 + F[i+1]*F[i+1] - (F[i+2]-2*F[i+1]+F[i])/(h*h) - f[i+1]*(F[i+2]-F[i])/(2*h)\n",
    "\n",
    "\n",
    "        c_,d_ = thomas_(a,b,c,d)\n",
    "\n",
    "        res = np.zeros((n-1,2))\n",
    "\n",
    "        res[-1] = d_[-1]\n",
    "        for i in range(n-2):\n",
    "            res[n-3-i] = d_[n-3-i] - np.dot(c_[n-3-i], res[n-2-i])\n",
    "            \n",
    "#         print(res[:,0])\n",
    "\n",
    "        f[1:-1] = f[1:-1] + res[:,0]\n",
    "        F[1:-1] = F[1:-1] + res[:,1]\n",
    "        #print(f)\n",
    "        \n",
    "        flag = flag -1\n",
    "        \n",
    "\n",
    "        \n",
    "    return [f[:-1], x_f[:-1]]"
   ]
  },
  {
   "cell_type": "code",
   "execution_count": 63,
   "metadata": {
    "ExecuteTime": {
     "end_time": "2019-02-11T16:19:29.588573Z",
     "start_time": "2019-02-11T16:19:29.561740Z"
    }
   },
   "outputs": [],
   "source": [
    "a_1, x_1 = main_(3)\n",
    "a_2, x_2 = main_(5)\n",
    "a_3, x_3 = main_(9)\n",
    "a_4, x_4 = main_(19)"
   ]
  },
  {
   "cell_type": "code",
   "execution_count": 65,
   "metadata": {
    "ExecuteTime": {
     "end_time": "2019-02-11T16:20:01.295469Z",
     "start_time": "2019-02-11T16:20:01.280037Z"
    }
   },
   "outputs": [
    {
     "name": "stdout",
     "output_type": "stream",
     "text": [
      "          x  predicted\n",
      "0  0.000000   0.000000\n",
      "1  3.333333   1.792418\n",
      "2  6.666667   5.211156\n",
      "\n",
      "     x  predicted\n",
      "0  0.0        0.0\n",
      "1  2.0        1.0\n",
      "2  4.0        3.0\n",
      "3  6.0        5.0\n",
      "4  8.0        7.0\n",
      "\n",
      "          x  predicted\n",
      "0  0.000000   0.000000\n",
      "1  1.111111   0.456834\n",
      "2  2.222222   1.465248\n",
      "3  3.333333   2.572728\n",
      "4  4.444444   3.684116\n",
      "5  5.555556   4.795179\n",
      "6  6.666667   5.906302\n",
      "7  7.777778   7.017408\n",
      "8  8.888889   8.128520\n",
      "\n",
      "           x  predicted\n",
      "0   0.000000   0.000000\n",
      "1   0.526316   0.135743\n",
      "2   1.052632   0.481954\n",
      "3   1.578947   0.937480\n",
      "4   2.105263   1.440731\n",
      "5   2.631579   1.961052\n",
      "6   3.157895   2.486192\n",
      "7   3.684211   3.012349\n",
      "8   4.210526   3.538652\n",
      "9   4.736842   4.064968\n",
      "10  5.263158   4.591283\n",
      "11  5.789474   5.117599\n",
      "12  6.315789   5.643915\n",
      "13  6.842105   6.170231\n",
      "14  7.368421   6.696547\n",
      "15  7.894737   7.222862\n",
      "16  8.421053   7.749178\n",
      "17  8.947368   8.275494\n",
      "18  9.473684   8.801810\n"
     ]
    }
   ],
   "source": [
    "import pandas as pd\n",
    "print(pd.DataFrame(np.column_stack((x_1, a_1)), columns=[\"x\", \"predicted\"]))\n",
    "print()\n",
    "print(pd.DataFrame(np.column_stack((x_2, a_2)), columns=[\"x\", \"predicted\"]))\n",
    "print()\n",
    "print(pd.DataFrame(np.column_stack((x_3, a_3)), columns=[\"x\", \"predicted\"]))\n",
    "print()\n",
    "print(pd.DataFrame(np.column_stack((x_4, a_4)), columns=[\"x\", \"predicted\"]))"
   ]
  },
  {
   "cell_type": "code",
   "execution_count": 68,
   "metadata": {
    "ExecuteTime": {
     "end_time": "2019-02-11T16:20:18.580311Z",
     "start_time": "2019-02-11T16:20:18.399290Z"
    }
   },
   "outputs": [
    {
     "data": {
      "image/png": "[encoded data removed]",
      "text/plain": [
       "<Figure size 960x800 with 1 Axes>"
      ]
     },
     "metadata": {},
     "output_type": "display_data"
    }
   ],
   "source": [
    "import matplotlib.pyplot as plt\n",
    "from matplotlib.pyplot import figure\n",
    "figure(num=None, figsize=(12, 10), dpi=80, facecolor='w', edgecolor='k')\n",
    "\n",
    "plt.plot(x_1, a_1, 'ro', label = 'h = 1/3')\n",
    "plt.plot(x_2, (a_2),  'gx', label = 'h = 0.1')\n",
    "plt.plot(x_3, (a_3),  'bo', label = 'h = 0.05')\n",
    "plt.plot(x_4, (a_4), 'y-', label = 'h = 0.1')\n",
    "plt.legend(loc='best')\n",
    "plt.show()"
   ]
  },
  {
   "cell_type": "code",
   "execution_count": null,
   "metadata": {},
   "outputs": [],
   "source": []
  }
 ],
 "metadata": {
  "kernelspec": {
   "display_name": "Python 3",
   "language": "python",
   "name": "python3"
  },
  "language_info": {
   "codemirror_mode": {
    "name": "ipython",
    "version": 3
   },
   "file_extension": ".py",
   "mimetype": "text/x-python",
   "name": "python",
   "nbconvert_exporter": "python",
   "pygments_lexer": "ipython3",
   "version": "3.6.5"
  }
 },
 "nbformat": 4,
 "nbformat_minor": 2
}
