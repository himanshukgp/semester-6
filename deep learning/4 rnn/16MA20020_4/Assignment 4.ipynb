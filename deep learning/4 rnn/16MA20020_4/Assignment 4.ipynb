{
 "cells": [
  {
   "cell_type": "code",
   "execution_count": 104,
   "metadata": {
    "ExecuteTime": {
     "end_time": "2019-03-16T17:34:52.954274Z",
     "start_time": "2019-03-16T17:34:45.737120Z"
    }
   },
   "outputs": [],
   "source": [
    "import string\n",
    "import re\n",
    "\n",
    "import nltk\n",
    "import numpy as np\n",
    "import pandas as pd\n",
    "from mxnet import gluon\n",
    "from mxnet import nd\n",
    "from mxnet.contrib import text\n",
    "import collections\n",
    "\n",
    "args_lr = 0.001\n",
    "args_batch_size = 32\n",
    "\n",
    "train_data = pd.read_fwf('train.txt',header=None)\n",
    "test_data = pd.read_fwf('test.txt')\n",
    "\n",
    "train = train_data.values\n",
    "\n",
    "train_data = train_data[0]\n",
    "\n",
    "def clean_document(doco):\n",
    "    punctuation = string.punctuation + '\\n\\n';\n",
    "    punc_replace = ''.join([' ' for s in punctuation]);\n",
    "    doco_clean = doco.replace('-', ' ');\n",
    "    doco_alphas = re.sub(r'\\W +', '', doco_clean)\n",
    "    trans_table = str.maketrans(punctuation, punc_replace);\n",
    "    doco_clean = ' '.join([word.translate(trans_table) for word in doco_alphas.split(' ')]);\n",
    "    doco_clean = doco_clean.split(' ');\n",
    "    regex = re.compile('[^a-zA-Z]')\n",
    "    doco_clean = [regex.sub(\"\", word.lower()) for word in doco_clean if len(word) > 0];\n",
    "    \n",
    "    return doco_clean;\n",
    "\n",
    "data_to_clean = [line[0] for line in train_data];\n",
    "\n",
    "data_clean = [clean_document(doc) for doc in train_data]\n",
    "sentences = [' '.join(r) for r in data_clean]\n",
    "\n",
    "for line in sentences:\n",
    "    line = re.sub(' +', ' ', line)\n",
    "\n",
    "counter = text.utils.count_tokens_from_str('\\n'.join(sentences))\n",
    "my_vocab = text.vocab.Vocabulary(counter, unknown_token='&lt;unk&gt;', \n",
    "                                 reserved_tokens=['&lt;pad&gt;'])\n",
    "\n",
    "my_embedding = text.embedding.create('fasttext', pretrained_file_name='wiki.simple.vec', \n",
    "                                     vocabulary=my_vocab)\n",
    "\n",
    "# my_embedding = text.embedding.create('glove', pretrained_file_name='glove.6B.50d.txt', \n",
    "#                                      vocabulary=my_vocab)"
   ]
  },
  {
   "cell_type": "code",
   "execution_count": null,
   "metadata": {},
   "outputs": [],
   "source": []
  },
  {
   "cell_type": "code",
   "execution_count": null,
   "metadata": {},
   "outputs": [],
   "source": []
  },
  {
   "cell_type": "code",
   "execution_count": 146,
   "metadata": {
    "ExecuteTime": {
     "end_time": "2019-03-16T18:46:35.774169Z",
     "start_time": "2019-03-16T18:46:35.769195Z"
    }
   },
   "outputs": [
    {
     "data": {
      "text/plain": [
       "5722"
      ]
     },
     "execution_count": 146,
     "metadata": {},
     "output_type": "execute_result"
    }
   ],
   "source": []
  },
  {
   "cell_type": "code",
   "execution_count": 147,
   "metadata": {
    "ExecuteTime": {
     "end_time": "2019-03-16T18:48:10.566258Z",
     "start_time": "2019-03-16T18:48:10.536227Z"
    }
   },
   "outputs": [
    {
     "data": {
      "text/plain": [
       "\n",
       "[ 0.49397    0.39996    0.24001   -0.15121   -0.087512   0.37114\n",
       " -0.19183    0.26098    0.31333   -0.020558  -0.18749    0.011645\n",
       "  0.054449  -0.2277     0.017834   0.15095   -0.11579   -0.23907\n",
       "  0.14762   -0.59926    0.42629   -0.27321    0.18108   -0.16664\n",
       "  0.2579    -0.072153   0.22217   -0.32343   -0.036255   0.0014665\n",
       " -0.19549   -0.020802  -0.019133   0.46111    0.27201   -0.2414\n",
       " -0.097133  -0.1544     0.14924    0.10331   -0.4095     0.25335\n",
       "  0.20956    0.063015   0.27018   -0.36988   -0.076009  -0.10374\n",
       "  0.10223    0.25479   -0.024966   0.029127   0.27369    0.20407\n",
       "  0.096047  -0.34951    0.2727     0.088732   0.10104    0.34106\n",
       " -0.35151   -0.10924    0.13973   -0.036134  -0.066709  -0.063939\n",
       "  0.13768   -0.33332   -0.085723   0.12625    0.028628  -0.11084\n",
       " -0.1534     0.013704  -0.16509   -0.45509    0.17037   -0.17046\n",
       "  0.1677     0.046611   0.051185  -0.29573    0.097145   0.14993\n",
       "  0.15075   -0.34078   -0.14805   -0.39762    0.15254   -0.34518\n",
       "  0.26381    0.013087   0.12642    0.049153   0.017909   0.091146\n",
       " -0.53409    0.32873    0.20304   -0.2169    -0.43617   -0.31439\n",
       " -0.30736    0.19102   -0.16198    0.0018645 -0.11844    0.12247\n",
       " -0.12258    0.15455   -0.1473    -0.16904    0.31094   -0.028016\n",
       " -0.2665    -0.26644   -0.16036    0.022706  -0.35491    0.1674\n",
       "  0.3738    -0.078931   0.1285     0.20597   -0.40444   -0.27489\n",
       "  0.16753   -0.31898   -0.22396    0.11571   -0.068088  -0.081452\n",
       "  0.06075    0.14328   -0.22518    0.11196   -0.015532   0.17844\n",
       " -0.39921   -0.11631   -0.1052     0.021972   0.32518   -0.16628\n",
       "  0.51065   -0.32039    0.1055     0.061184   0.092217  -0.33266\n",
       "  0.018199  -0.070445   0.063977  -0.091075   0.55814    0.13469\n",
       " -0.18691    0.29021    0.11888    0.062714   0.38529   -0.17353\n",
       " -0.19787   -0.45913    0.20491    0.14105    0.14691   -0.2166\n",
       "  0.15289    0.44241   -0.27689    0.19143    0.19096   -0.1971\n",
       " -0.4862    -0.0083739  0.35312   -0.75989   -0.096256   0.043151\n",
       " -0.0337     0.13631   -0.58625    0.21425   -0.1605     0.040917\n",
       "  0.1034    -0.11852    0.12474    0.097374   0.20936    0.053369\n",
       "  0.039106   0.1367     0.0084103 -0.10412   -0.55523   -0.11774\n",
       " -0.044953  -0.57382    0.16568   -0.076182  -0.060781  -0.10931\n",
       "  0.030072   0.20087    0.023024  -0.12572    0.18545    0.1773\n",
       "  0.085608  -0.11965    0.33696   -0.17633   -0.55961    0.030618\n",
       "  0.19293    0.11139   -0.10835   -0.30679    0.10021   -0.076865\n",
       " -0.32451    0.094701   0.20039   -0.51941   -0.02898    0.19825\n",
       " -0.2822     0.11603    0.35078    0.202     -0.56181   -0.017521\n",
       " -0.082912   0.17675   -0.12928   -0.099379   0.014639  -0.15497\n",
       "  0.23311    0.11897   -0.15443    0.071644   0.45105   -0.065312\n",
       " -0.24089   -0.17542    0.26099    0.65362    0.26495    0.56956\n",
       " -0.11215    0.056707  -0.11759   -0.19884   -0.21006    0.11546\n",
       "  0.0046345  0.29259    0.18406    0.076574  -0.19139    0.042915\n",
       " -0.24269   -0.13223   -0.040065   0.069637   0.18338   -0.48022\n",
       " -0.11446    0.096857  -0.16904   -0.026919  -0.25587   -0.1594\n",
       "  0.084972   0.015444   0.13246   -0.11887    0.28764   -0.12904\n",
       " -0.2773    -0.25274    0.44825    0.55345   -0.40475    0.49323\n",
       " -0.3846    -0.22263   -0.21185   -0.32136    0.044424  -0.17228\n",
       "  0.089521   0.29175   -0.40918   -0.089206  -0.1816    -0.36617  ]\n",
       "<NDArray 300 @cpu(0)>"
      ]
     },
     "execution_count": 147,
     "metadata": {},
     "output_type": "execute_result"
    }
   ],
   "source": [
    "my_embedding.get_vecs_by_tokens('nice')"
   ]
  },
  {
   "cell_type": "code",
   "execution_count": null,
   "metadata": {},
   "outputs": [],
   "source": []
  }
 ],
 "metadata": {
  "kernelspec": {
   "display_name": "Python (data)",
   "language": "python",
   "name": "data"
  },
  "language_info": {
   "codemirror_mode": {
    "name": "ipython",
    "version": 3
   },
   "file_extension": ".py",
   "mimetype": "text/x-python",
   "name": "python",
   "nbconvert_exporter": "python",
   "pygments_lexer": "ipython3",
   "version": "3.6.7"
  }
 },
 "nbformat": 4,
 "nbformat_minor": 2
}
