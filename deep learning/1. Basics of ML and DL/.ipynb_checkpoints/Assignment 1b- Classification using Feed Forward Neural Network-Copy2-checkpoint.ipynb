{
 "cells": [
  {
   "cell_type": "code",
   "execution_count": 1,
   "metadata": {
    "ExecuteTime": {
     "end_time": "2019-01-31T06:43:31.015005Z",
     "start_time": "2019-01-31T06:43:30.646991Z"
    }
   },
   "outputs": [
    {
     "name": "stdout",
     "output_type": "stream",
     "text": [
      "150 4\n"
     ]
    }
   ],
   "source": [
    "'''\n",
    "Name : Himanshu\n",
    "Roll No: 16MA20020\n",
    "\n",
    "Assignment 1b\n",
    "'''\n",
    "\n",
    "import numpy as np\n",
    "import matplotlib.pyplot as plt\n",
    "import pandas as pd\n",
    "\n",
    "df= pd.read_csv('Iris_Data.csv')\n",
    "df.head()\n",
    "\n",
    "'''\n",
    "You will not import any other library other than these provided.\n",
    "\n",
    "We provide the iris_dataset for the classification task\n",
    "There are 4 dependent variables columns(1-4).\n",
    "The last column (category of the flower) is what we wish to predict\n",
    "\n",
    "The first part of this task is similar to assignment 1 a\n",
    "'''\n",
    "# reads the file and stores in 2 numpy arrays.\n",
    "# X has the input features and Y has the output value in numpy array\n",
    "\n",
    "X = df.iloc[:,:-1].values\n",
    "Y = df.iloc[:,-1].values\n",
    "\n",
    "rows,cols= X.shape[0], X.shape[1] #?, #? \n",
    "# how to get the number of rows and columns in the dataset.\n",
    "# Rows correspond to the number of input instances, columns correspond to the feature of an input\n",
    "\n",
    "print(rows,cols)\n",
    "\n",
    "np.random.seed(42) # to ensure that the same seed is generated\n",
    "\n",
    "# write code to shuffle the dataset\n",
    "\n",
    "def shuffle_dataset(X,Y):\n",
    "    \n",
    "    '''\n",
    "        Write code to shuffle the dataset here. \n",
    "        \n",
    "        Args: \n",
    "            X: Input feature ndarray\n",
    "            Y: Input values ndarray\n",
    "            \n",
    "        Return:\n",
    "            X and Y shuffled in place\n",
    "    \n",
    "    '''\n",
    "    arr = np.arange(rows)\n",
    "    np.random.shuffle(arr)\n",
    "    X = X[arr]\n",
    "    Y = Y[arr]\n",
    "    \n",
    "\n",
    "training_size = int(0.8*rows)\n",
    "X_train = np.nan_to_num(X[:training_size])\n",
    "y_train = np.nan_to_num(Y[:training_size])\n",
    "X_test = np.nan_to_num(X[training_size:])\n",
    "y_test = np.nan_to_num(Y[training_size:])"
   ]
  },
  {
   "cell_type": "code",
   "execution_count": 2,
   "metadata": {
    "ExecuteTime": {
     "end_time": "2019-01-31T06:43:31.723732Z",
     "start_time": "2019-01-31T06:43:31.708056Z"
    }
   },
   "outputs": [
    {
     "data": {
      "text/plain": [
       "array([5.1, 3.5, 1.4, 0.2])"
      ]
     },
     "execution_count": 2,
     "metadata": {},
     "output_type": "execute_result"
    }
   ],
   "source": [
    "X_train[0]"
   ]
  },
  {
   "cell_type": "markdown",
   "metadata": {},
   "source": [
    "## Defining the Feed Forward Neural Network class"
   ]
  },
  {
   "cell_type": "code",
   "execution_count": 9,
   "metadata": {
    "ExecuteTime": {
     "end_time": "2019-01-31T06:46:02.758081Z",
     "start_time": "2019-01-31T06:46:02.688391Z"
    }
   },
   "outputs": [],
   "source": [
    "class NeuralNetwork(object):\n",
    "    \n",
    "    def __init__(self, input_no, hidden_no, output_no ):\n",
    "        '''\n",
    "            Initialize the Neural network model \n",
    "            Args:\n",
    "                input_no : no of input features (no of cols)\n",
    "                hidden_no: no of hidden nodes in the model\n",
    "                output_no: no of categories our model can classify\n",
    "                      \n",
    "        \n",
    "        '''\n",
    "        self.h= np.zeros(hidden_no) # Initialize the hidden layer with zero ?\n",
    "        self.w1= np.random.rand(hidden_no,cols) # Initialize the weights from the input to the hidden layer uniformly with values between 0 and 0.01  ?\n",
    "        #print(self.w1.shape)\n",
    "        self.b1= np.random.rand(hidden_no) # Initialize the biases uniformly with values between 0 and 0.01 equal to the number of hidden nodes  ?\n",
    "        self.w2= np.random.rand(output_no,hidden_no) # Initialize the weights from the hidden layer to the output uniformly with values between 0 and 0.01 ? \n",
    "        self.b2= np.random.rand(output_no)# Initialize the biases uniformly with values between 0 and 0.01 equal to the number of output categories ?\n",
    "\n",
    "    \n",
    "    def forward(self, x):\n",
    "        '''\n",
    "            Do a forward pass on the NN model \n",
    "            Args: \n",
    "                x : Input feature matrix \n",
    "                \n",
    "            Return:\n",
    "                y_pred : list of predicted probabilities of x\n",
    "\n",
    "                h = relu(w1.x+b1) \n",
    "                y_pred = softmax(w2.h+b2)\n",
    "                \n",
    "        \n",
    "        '''\n",
    "        y_pred=[]\n",
    "        \n",
    "        # evaluate activations of first hidden layer\n",
    "        self.h = np.matmul(x,np.transpose(self.w1)) + self.b1\n",
    "        for i in range(self.h.shape[0]):\n",
    "            for j in range(self.h.shape[1]):\n",
    "                if self.h[i][j]<0:\n",
    "                    self.h[i][j]=0\n",
    "        \n",
    "        y_pred = np.matmul(self.h, np.transpose(self.w2)) + self.b2\n",
    "        sum_ = np.sum(np.exp(y_pred), axis=1)\n",
    "        #print(sum_.shape)\n",
    "        y_pred = np.divide(np.exp(y_pred), (sum_.reshape(-1,1)))\n",
    "        \n",
    "        return y_pred\n",
    "\n",
    "    \n",
    "    def backward(self, x, y_train, y_pred, lr):\n",
    "        \n",
    "        '''\n",
    "            Do a backward pass on the NN model. \n",
    "            Computes all gradients and updates the parameters w1, b1, w2, b2\n",
    "            \n",
    "            Args:\n",
    "                x: input matrix X \n",
    "                y_train: actual category of the feature/ data point\n",
    "                y_pred: predicted probabilities of the categories obtained during forward pass\n",
    "                lr: learning rate        \n",
    "        '''\n",
    "        \n",
    "        y_ = np.zeros((y_train.shape[0], 3))\n",
    "        for i in range(y_.shape[0]):\n",
    "            y_[y_train[i]]=1\n",
    "        y_train = y_\n",
    "        \n",
    "        #print(y_train[0])\n",
    "        \n",
    "        H_in = np.matmul(x,np.transpose(self.w1)) + self.b1\n",
    "        h = H_in\n",
    "        for i in range(h.shape[0]):\n",
    "            for j in range(h.shape[1]):\n",
    "                if h[i][j]<0:\n",
    "                    h[i][j]=0\n",
    "        H_out = h\n",
    "        O_in = np.matmul(h,np.transpose(self.w2)) + self.b2\n",
    "        O_out = self.forward(x)\n",
    "        \n",
    "        dE_dout = -1 * ( np.multiply(y_train, 1/y_pred) + np.multiply((1-y_train), 1/(1-y_pred)) )\n",
    "        \n",
    "        dOout_dOin = O_in\n",
    "        for i in range(O_in.shape[1]):\n",
    "            dOout_dOin[:,i] = (O_in[:,i]*(np.sum(O_in, axis=1)-O_in[:,i]))/np.power(np.sum(O_in, axis=1), 2)\n",
    "        \n",
    "        \n",
    "        dW2_1 = np.zeros(self.w2.shape)\n",
    "        db2_1 = np.zeros(self.b2.shape)\n",
    "        for i in range(x.shape[0]):\n",
    "            temp = np.ones(self.w2.shape)\n",
    "            temp = temp*H_out[i]\n",
    "            temp = temp*dE_dout[i].reshape(-1,1)\n",
    "            temp = temp*dOout_dOin[i].reshape(-1,1)\n",
    "            dW2_1 += temp\n",
    "            \n",
    "            db2_1 += dE_dout[i]*dOout_dOin[i]\n",
    "        \n",
    "        dW2 = dW2_1/x.shape[0]\n",
    "        db2 = db2_1/x.shape[0]\n",
    "        \n",
    "        \n",
    "        dHout_dHin = (H_in > 0).astype(int)\n",
    "        \n",
    "        temp1 = dE_dout*dOout_dOin\n",
    "        temp2 = np.ones((x.shape[0], self.w2.shape[1], self.w2.shape[0]))\n",
    "        #temp2 = temp2*temp1\n",
    "        for i in range(x.shape[0]):\n",
    "            temp2[i] = temp2[i]*temp1[i]\n",
    "            temp2[i] = np.multiply(temp2[i], np.transpose(self.w2))\n",
    "        temp2 = np.sum(temp2, axis=2)\n",
    "        \n",
    "        dEtot_dHout = temp2\n",
    "        \n",
    "        dW1_1 = np.zeros(self.w1.shape)\n",
    "        db2_1 = np.zeros(self.b1.shape)\n",
    "        \n",
    "        for i in range(x.shape[0]):\n",
    "            temp = np.ones(self.w1.shape)\n",
    "            temp = temp*dHout_dHin[i].reshape(-1,1)\n",
    "            temp = temp*x[i]\n",
    "            temp = temp*dEtot_dHout[i].reshape(-1,1)\n",
    "            dW1_1 += temp\n",
    "            \n",
    "            db2_1 += dHout_dHin[i]*dEtot_dHout[i]\n",
    "            \n",
    "            \n",
    "        \n",
    "        dW1 = dW1_1/x.shape[0]\n",
    "        db1 = db2_1/x.shape[0]\n",
    "        \n",
    "        self.w1 = self.w1-dW1*lr\n",
    "        self.w2 = self.w2-dW2*lr\n",
    "        self.b1 = self.b1-db1*lr\n",
    "        self.b2 = self.b2-db2*lr\n",
    "        \n",
    "        #print(self.w2)\n",
    "        \n",
    "        \n",
    "def crossEntropy_loss(y_pred, y_train):\n",
    "    '''\n",
    "        Computes the cross entropy loss between the predicted values and the actual values\n",
    "        \n",
    "        Args:\n",
    "            y_pred: predicted probabilities of the categories obtained during forward pass\n",
    "            y_train: actual category of the feature/ data point\n",
    "    \n",
    "    '''\n",
    "    y_ = np.zeros((y_train.shape[0], 3))\n",
    "    for i in range(y_.shape[0]):\n",
    "        y_[y_train[i]]=1\n",
    "    y_train = y_\n",
    "        \n",
    "    res = (-1) * ( (y_train * np.log(y_pred)) + ((1-y_train) * np.log(1-y_pred)) )\n",
    "    res = np.sum(res)/y_pred.shape[0]\n",
    "    return res\n",
    "\n",
    "def accuracy(y_pred,y_train):\n",
    "    '''\n",
    "        Computes the accuracy between the predicted values and actual labels\n",
    "    \n",
    "        Args:\n",
    "            y_pred: predicted probabilities of the categories obtained during forward pass\n",
    "            y_train: actual category of the feature/ data point\n",
    "\n",
    "    '''\n",
    "    \n",
    "    y_pred = np.argmax(y_pred, axis=1)\n",
    "    res = np.sum((y_pred==y_train).astype(int))/y_pred.shape[0]\n",
    "    return res\n",
    "        \n"
   ]
  },
  {
   "cell_type": "code",
   "execution_count": 10,
   "metadata": {
    "ExecuteTime": {
     "end_time": "2019-01-31T06:46:03.243943Z",
     "start_time": "2019-01-31T06:46:03.153232Z"
    }
   },
   "outputs": [
    {
     "name": "stdout",
     "output_type": "stream",
     "text": [
      "[1. 1. 1.]\n",
      "[[1.01119816 0.27719128 0.71813578 0.78271484 0.25831292]\n",
      " [0.75268439 0.40147618 0.67607817 0.65371086 0.55555843]\n",
      " [0.13043908 0.89074092 0.37890896 0.21773744 0.07096161]]\n",
      "[1. 1. 1.]\n",
      "[[1.0407259  0.31690956 0.76938243 0.80730606 0.28134028]\n",
      " [0.77831    0.43599816 0.7201154  0.6750083  0.57550232]\n",
      " [0.16952428 0.94371313 0.43401684 0.24853975 0.0993978 ]]\n",
      "[1. 1. 1.]\n",
      "[[1.0779955  0.36584291 0.8320744  0.8385516  0.30946169]\n",
      " [0.80364743 0.46933915 0.76201312 0.69616609 0.59453774]\n",
      " [0.21271673 1.0010471  0.49340188 0.2829208  0.12988826]]\n",
      "[1. 1. 1.]\n",
      "[[1.14341719 0.44959271 0.93983062 0.89380096 0.35734127]\n",
      " [0.8266524  0.49891443 0.79860605 0.71542888 0.6112076 ]\n",
      " [0.26381656 1.06747095 0.56202357 0.32393136 0.16488327]]\n",
      "[1. 1. 1.]\n",
      "[[1.89917125 1.37659382 2.18289474 1.53971763 0.89155166]\n",
      " [0.85118073 0.52939155 0.83514814 0.73587593 0.62802454]\n",
      " [0.41043239 1.25190235 0.75282021 0.44229858 0.26112239]]\n"
     ]
    }
   ],
   "source": [
    "# Initialize the neural network model and specify the parameters \n",
    "\n",
    "hidden_nodes=5\n",
    "nnobj= NeuralNetwork(cols,hidden_nodes,3)       \n",
    "epochs = 5\n",
    "learning_rate = 1e-2\n",
    "loss_history = []\n",
    "epoch_history = []\n",
    "\n",
    "# Gradient Descent\n",
    "for e in range(epochs):\n",
    "    yPred = nnobj.forward(X_train)\n",
    "    #print(yPred)\n",
    "    nnobj.backward(X_train, y_train,yPred, lr=learning_rate)   #, lmda=lmda)\n",
    "\n",
    "# yPred = nnobj.forward(X_train)\n",
    "# print(yPred)\n",
    "    \n",
    "# train_loss= crossEntropy_loss(nnobj.forward(X_train), y_train)  #?\n",
    "# train_accuracy= accuracy(nnobj.forward(X_train), y_train) #?\n",
    "# test_loss= crossEntropy_loss(nnobj.forward(X_test), y_test)# ?\n",
    "# test_accuracy= accuracy(nnobj.forward(X_test), y_test) #?\n",
    "    \n",
    "# print(\"Final train_loss \"+ str(train_loss))    \n",
    "# print(\"Final train_accuracy \"+ str(train_accuracy))    \n",
    "# print(\"Testloss \" + str(test_loss))\n",
    "# print(\"Accuracy is \"+ str(test_accuracy))\n",
    "\n",
    "        \n",
    "            "
   ]
  },
  {
   "cell_type": "code",
   "execution_count": 73,
   "metadata": {
    "ExecuteTime": {
     "end_time": "2019-01-30T19:31:28.312719Z",
     "start_time": "2019-01-30T19:31:28.296324Z"
    }
   },
   "outputs": [
    {
     "data": {
      "text/plain": [
       "0"
      ]
     },
     "execution_count": 73,
     "metadata": {},
     "output_type": "execute_result"
    }
   ],
   "source": [
    "y_train[0]"
   ]
  },
  {
   "cell_type": "code",
   "execution_count": null,
   "metadata": {},
   "outputs": [],
   "source": []
  },
  {
   "cell_type": "code",
   "execution_count": null,
   "metadata": {},
   "outputs": [],
   "source": []
  }
 ],
 "metadata": {
  "kernelspec": {
   "display_name": "Python 3",
   "language": "python",
   "name": "python3"
  },
  "language_info": {
   "codemirror_mode": {
    "name": "ipython",
    "version": 3
   },
   "file_extension": ".py",
   "mimetype": "text/x-python",
   "name": "python",
   "nbconvert_exporter": "python",
   "pygments_lexer": "ipython3",
   "version": "3.6.7"
  }
 },
 "nbformat": 4,
 "nbformat_minor": 2
}
