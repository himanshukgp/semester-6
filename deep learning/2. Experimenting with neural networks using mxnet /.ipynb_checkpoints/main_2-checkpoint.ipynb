{
 "cells": [
  {
   "cell_type": "code",
   "execution_count": null,
   "metadata": {
    "ExecuteTime": {
     "end_time": "2019-02-07T16:02:16.052765Z",
     "start_time": "2019-02-07T16:02:16.028498Z"
    }
   },
   "outputs": [],
   "source": []
  },
  {
   "cell_type": "code",
   "execution_count": 1,
   "metadata": {
    "ExecuteTime": {
     "end_time": "2019-02-07T18:16:31.262908Z",
     "start_time": "2019-02-07T18:16:30.519355Z"
    }
   },
   "outputs": [],
   "source": [
    "from zipfile import ZipFile\n",
    "import numpy as np\n",
    "import mxnet as mx\n",
    "from mxnet import nd, autograd, gluon\n",
    "import mxnet.ndarray as F\n",
    "import random\n"
   ]
  },
  {
   "cell_type": "code",
   "execution_count": 2,
   "metadata": {
    "ExecuteTime": {
     "end_time": "2019-02-07T18:16:32.308110Z",
     "start_time": "2019-02-07T18:16:32.302520Z"
    }
   },
   "outputs": [],
   "source": [
    "mx.random.seed(1)\n",
    "random.seed(1)\n",
    "\n",
    "data_ctx = mx.cpu()\n",
    "model_ctx = mx.cpu()"
   ]
  },
  {
   "cell_type": "code",
   "execution_count": 3,
   "metadata": {
    "ExecuteTime": {
     "end_time": "2019-02-07T18:16:33.600586Z",
     "start_time": "2019-02-07T18:16:33.595786Z"
    }
   },
   "outputs": [],
   "source": [
    "class DataLoader(object):\n",
    "    def __init__(self, min_batch_size=32):\n",
    "        DIR = 'data/'\n",
    "        self.min_batch_size=min_batch_size\n",
    "        \n",
    "    \n",
    "    # Returns images and labels corresponding for training and testing. Default mode is train. \n",
    "    # For retrieving test data pass mode as 'test' in function call.\n",
    "    def load_data(self, mode = 'train'):\n",
    "        label_filename = mode + '_labels'\n",
    "        image_filename = mode + '_images'\n",
    "        label_zip = 'data/' + label_filename + '.zip'\n",
    "        image_zip = 'data/' + image_filename + '.zip'\n",
    "        with ZipFile(label_zip, 'r') as lblzip:\n",
    "            labels = np.frombuffer(lblzip.read(label_filename), dtype=np.uint8, offset=8)\n",
    "        with ZipFile(image_zip, 'r') as imgzip:\n",
    "            images = np.frombuffer(imgzip.read(image_filename), dtype=np.uint8, offset=16).reshape(len(labels), 784)\n",
    "        return images, labels"
   ]
  },
  {
   "cell_type": "code",
   "execution_count": 4,
   "metadata": {
    "ExecuteTime": {
     "end_time": "2019-02-07T18:16:35.059561Z",
     "start_time": "2019-02-07T18:16:34.719677Z"
    }
   },
   "outputs": [],
   "source": [
    "data_obj = DataLoader()\n",
    "X_train, y_train = data_obj.load_data(mode='train')\n",
    "X_train = X_train.astype('float32')\n",
    "y_train = y_train\n",
    "X_test, y_test = data_obj.load_data(mode='test')\n",
    "num_inputs = 784\n",
    "num_outputs = 10\n",
    "num_examples = X_train.shape[0]"
   ]
  },
  {
   "cell_type": "code",
   "execution_count": 5,
   "metadata": {
    "ExecuteTime": {
     "end_time": "2019-02-07T18:16:36.224467Z",
     "start_time": "2019-02-07T18:16:36.221648Z"
    }
   },
   "outputs": [
    {
     "name": "stdout",
     "output_type": "stream",
     "text": [
      "(60000, 784)\n",
      "(60000,)\n"
     ]
    }
   ],
   "source": [
    "print(X_train.shape)\n",
    "print(y_train.shape)"
   ]
  },
  {
   "cell_type": "code",
   "execution_count": 6,
   "metadata": {
    "ExecuteTime": {
     "end_time": "2019-02-07T18:16:37.507909Z",
     "start_time": "2019-02-07T18:16:37.502800Z"
    }
   },
   "outputs": [],
   "source": [
    "num_hidden = 64\n",
    "net = gluon.nn.Sequential()\n",
    "with net.name_scope():\n",
    "    net.add(gluon.nn.Dense(512, activation=\"relu\"))\n",
    "    net.add(gluon.nn.Dense(128, activation=\"relu\"))\n",
    "    net.add(gluon.nn.Dense(64, activation=\"relu\"))\n",
    "    net.add(gluon.nn.Dense(32, activation=\"relu\"))\n",
    "    net.add(gluon.nn.Dense(16, activation=\"relu\"))\n",
    "    net.add(gluon.nn.Dense(10))"
   ]
  },
  {
   "cell_type": "code",
   "execution_count": 7,
   "metadata": {
    "ExecuteTime": {
     "end_time": "2019-02-07T18:16:38.711389Z",
     "start_time": "2019-02-07T18:16:38.701940Z"
    }
   },
   "outputs": [
    {
     "data": {
      "text/plain": [
       "sequential0_ (\n",
       "  Parameter sequential0_dense0_weight (shape=(512, 0), dtype=float32)\n",
       "  Parameter sequential0_dense0_bias (shape=(512,), dtype=float32)\n",
       "  Parameter sequential0_dense1_weight (shape=(128, 0), dtype=float32)\n",
       "  Parameter sequential0_dense1_bias (shape=(128,), dtype=float32)\n",
       "  Parameter sequential0_dense2_weight (shape=(64, 0), dtype=float32)\n",
       "  Parameter sequential0_dense2_bias (shape=(64,), dtype=float32)\n",
       "  Parameter sequential0_dense3_weight (shape=(32, 0), dtype=float32)\n",
       "  Parameter sequential0_dense3_bias (shape=(32,), dtype=float32)\n",
       "  Parameter sequential0_dense4_weight (shape=(16, 0), dtype=float32)\n",
       "  Parameter sequential0_dense4_bias (shape=(16,), dtype=float32)\n",
       "  Parameter sequential0_dense5_weight (shape=(10, 0), dtype=float32)\n",
       "  Parameter sequential0_dense5_bias (shape=(10,), dtype=float32)\n",
       ")"
      ]
     },
     "execution_count": 7,
     "metadata": {},
     "output_type": "execute_result"
    }
   ],
   "source": [
    "net.collect_params()"
   ]
  },
  {
   "cell_type": "code",
   "execution_count": 8,
   "metadata": {
    "ExecuteTime": {
     "end_time": "2019-02-07T18:16:39.712209Z",
     "start_time": "2019-02-07T18:16:39.704291Z"
    }
   },
   "outputs": [],
   "source": [
    "net.collect_params().initialize(mx.initializer.Uniform(0.01), ctx=model_ctx)\n"
   ]
  },
  {
   "cell_type": "code",
   "execution_count": 9,
   "metadata": {
    "ExecuteTime": {
     "end_time": "2019-02-07T18:16:40.826052Z",
     "start_time": "2019-02-07T18:16:40.821099Z"
    }
   },
   "outputs": [
    {
     "data": {
      "text/plain": [
       "mxnet.gluon.parameter.ParameterDict"
      ]
     },
     "execution_count": 9,
     "metadata": {},
     "output_type": "execute_result"
    }
   ],
   "source": [
    "type(net.collect_params())"
   ]
  },
  {
   "cell_type": "code",
   "execution_count": 10,
   "metadata": {
    "ExecuteTime": {
     "end_time": "2019-02-07T18:16:41.929801Z",
     "start_time": "2019-02-07T18:16:41.926453Z"
    }
   },
   "outputs": [],
   "source": [
    "square_loss = gluon.loss.SoftmaxCrossEntropyLoss()"
   ]
  },
  {
   "cell_type": "code",
   "execution_count": 11,
   "metadata": {
    "ExecuteTime": {
     "end_time": "2019-02-07T18:16:42.826355Z",
     "start_time": "2019-02-07T18:16:42.823719Z"
    }
   },
   "outputs": [],
   "source": [
    "trainer = gluon.Trainer(net.collect_params(), 'sgd', {'learning_rate': 0.0001})\n"
   ]
  },
  {
   "cell_type": "code",
   "execution_count": 12,
   "metadata": {
    "ExecuteTime": {
     "end_time": "2019-02-07T18:16:43.645432Z",
     "start_time": "2019-02-07T18:16:43.642345Z"
    }
   },
   "outputs": [],
   "source": [
    "batch_size = 32\n",
    "train_data = gluon.data.DataLoader(\n",
    "    gluon.data.dataset.ArrayDataset(X_train, y_train.reshape(-1,1)), batch_size=batch_size, shuffle=True)"
   ]
  },
  {
   "cell_type": "code",
   "execution_count": 13,
   "metadata": {
    "ExecuteTime": {
     "end_time": "2019-02-07T18:16:44.424024Z",
     "start_time": "2019-02-07T18:16:44.410583Z"
    }
   },
   "outputs": [
    {
     "name": "stdout",
     "output_type": "stream",
     "text": [
      "1875.0\n"
     ]
    }
   ],
   "source": [
    "epochs = 10\n",
    "num_batches = num_examples / batch_size\n",
    "print(num_batches)"
   ]
  },
  {
   "cell_type": "code",
   "execution_count": 14,
   "metadata": {
    "ExecuteTime": {
     "end_time": "2019-02-07T18:16:45.043101Z",
     "start_time": "2019-02-07T18:16:45.019535Z"
    }
   },
   "outputs": [],
   "source": [
    "def train_loop(epochs):\n",
    "    for e in range(epochs):\n",
    "        cumulative_loss = 0\n",
    "        for i, (data, label) in enumerate(train_data):\n",
    "            data = data.as_in_context(model_ctx).reshape(-1,784)\n",
    "            label = label.as_in_context(model_ctx)\n",
    "            with autograd.record():\n",
    "                output = net(data)\n",
    "                loss = square_loss(output, label)\n",
    "            loss.backward()\n",
    "            trainer.step(batch_size)\n",
    "            cumulative_loss += nd.mean(loss).asscalar()\n",
    "        print(\"Epoch %s, loss: %.4f\" % (e, cumulative_loss / num_examples))"
   ]
  },
  {
   "cell_type": "code",
   "execution_count": null,
   "metadata": {
    "ExecuteTime": {
     "start_time": "2019-02-07T18:16:45.922Z"
    }
   },
   "outputs": [
    {
     "name": "stdout",
     "output_type": "stream",
     "text": [
      "Epoch 0, loss: 0.0720\n",
      "Epoch 1, loss: 0.0720\n",
      "Epoch 2, loss: 0.0720\n",
      "Epoch 3, loss: 0.0720\n",
      "Epoch 4, loss: 0.0720\n"
     ]
    }
   ],
   "source": [
    "train_loop(epochs)"
   ]
  },
  {
   "cell_type": "code",
   "execution_count": null,
   "metadata": {},
   "outputs": [],
   "source": []
  },
  {
   "cell_type": "code",
   "execution_count": null,
   "metadata": {},
   "outputs": [],
   "source": []
  }
 ],
 "metadata": {
  "kernelspec": {
   "display_name": "Python (data)",
   "language": "python",
   "name": "data"
  },
  "language_info": {
   "codemirror_mode": {
    "name": "ipython",
    "version": 3
   },
   "file_extension": ".py",
   "mimetype": "text/x-python",
   "name": "python",
   "nbconvert_exporter": "python",
   "pygments_lexer": "ipython3",
   "version": "3.6.7"
  }
 },
 "nbformat": 4,
 "nbformat_minor": 2
}
