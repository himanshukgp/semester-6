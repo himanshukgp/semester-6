{
 "cells": [
  {
   "cell_type": "code",
   "execution_count": null,
   "metadata": {
    "ExecuteTime": {
     "end_time": "2019-02-07T16:02:16.052765Z",
     "start_time": "2019-02-07T16:02:16.028498Z"
    }
   },
   "outputs": [],
   "source": []
  },
  {
   "cell_type": "code",
   "execution_count": 2,
   "metadata": {
    "ExecuteTime": {
     "end_time": "2019-02-07T18:18:33.712948Z",
     "start_time": "2019-02-07T18:18:32.976469Z"
    }
   },
   "outputs": [],
   "source": [
    "from zipfile import ZipFile\n",
    "import numpy as np\n",
    "import mxnet as mx\n",
    "from mxnet import nd, autograd, gluon\n",
    "import mxnet.ndarray as F\n",
    "import random\n"
   ]
  },
  {
   "cell_type": "code",
   "execution_count": 3,
   "metadata": {
    "ExecuteTime": {
     "end_time": "2019-02-07T18:18:34.396662Z",
     "start_time": "2019-02-07T18:18:34.383221Z"
    }
   },
   "outputs": [],
   "source": [
    "mx.random.seed(1)\n",
    "random.seed(1)\n",
    "\n",
    "data_ctx = mx.cpu()\n",
    "model_ctx = mx.cpu()"
   ]
  },
  {
   "cell_type": "code",
   "execution_count": 4,
   "metadata": {
    "ExecuteTime": {
     "end_time": "2019-02-07T18:18:35.665420Z",
     "start_time": "2019-02-07T18:18:35.658441Z"
    }
   },
   "outputs": [],
   "source": [
    "class DataLoader(object):\n",
    "    def __init__(self, min_batch_size=32):\n",
    "        DIR = 'data/'\n",
    "        self.min_batch_size=min_batch_size\n",
    "        \n",
    "    \n",
    "    # Returns images and labels corresponding for training and testing. Default mode is train. \n",
    "    # For retrieving test data pass mode as 'test' in function call.\n",
    "    def load_data(self, mode = 'train'):\n",
    "        label_filename = mode + '_labels'\n",
    "        image_filename = mode + '_images'\n",
    "        label_zip = 'data/' + label_filename + '.zip'\n",
    "        image_zip = 'data/' + image_filename + '.zip'\n",
    "        with ZipFile(label_zip, 'r') as lblzip:\n",
    "            labels = np.frombuffer(lblzip.read(label_filename), dtype=np.uint8, offset=8)\n",
    "        with ZipFile(image_zip, 'r') as imgzip:\n",
    "            images = np.frombuffer(imgzip.read(image_filename), dtype=np.uint8, offset=16).reshape(len(labels), 784)\n",
    "        return images, labels"
   ]
  },
  {
   "cell_type": "code",
   "execution_count": 31,
   "metadata": {
    "ExecuteTime": {
     "end_time": "2019-02-07T18:27:04.422569Z",
     "start_time": "2019-02-07T18:27:04.084007Z"
    }
   },
   "outputs": [],
   "source": [
    "data_obj = DataLoader()\n",
    "X_train, y_train = data_obj.load_data(mode='train')\n",
    "X_train = X_train.astype('float32')\n",
    "y_train = y_train\n",
    "X_test, y_test = data_obj.load_data(mode='test')\n",
    "X_test = X_test.astype('float32')\n",
    "num_inputs = 784\n",
    "num_outputs = 10\n",
    "num_examples = X_train.shape[0]"
   ]
  },
  {
   "cell_type": "code",
   "execution_count": 32,
   "metadata": {
    "ExecuteTime": {
     "end_time": "2019-02-07T18:27:04.610970Z",
     "start_time": "2019-02-07T18:27:04.606472Z"
    }
   },
   "outputs": [
    {
     "name": "stdout",
     "output_type": "stream",
     "text": [
      "(60000, 784)\n",
      "(60000,)\n"
     ]
    }
   ],
   "source": [
    "print(X_train.shape)\n",
    "print(y_train.shape)"
   ]
  },
  {
   "cell_type": "code",
   "execution_count": 33,
   "metadata": {
    "ExecuteTime": {
     "end_time": "2019-02-07T18:27:05.194143Z",
     "start_time": "2019-02-07T18:27:05.175747Z"
    }
   },
   "outputs": [],
   "source": [
    "net = gluon.nn.Sequential()\n",
    "with net.name_scope():\n",
    "    net.add(gluon.nn.Dense(1024, activation=\"relu\"))\n",
    "    net.add(gluon.nn.Dense(512, activation=\"relu\"))\n",
    "    net.add(gluon.nn.Dense(256, activation=\"relu\"))\n",
    "    net.add(gluon.nn.Dense(10))"
   ]
  },
  {
   "cell_type": "code",
   "execution_count": 34,
   "metadata": {
    "ExecuteTime": {
     "end_time": "2019-02-07T18:27:05.517899Z",
     "start_time": "2019-02-07T18:27:05.503202Z"
    }
   },
   "outputs": [
    {
     "data": {
      "text/plain": [
       "sequential1_ (\n",
       "  Parameter sequential1_dense0_weight (shape=(1024, 0), dtype=float32)\n",
       "  Parameter sequential1_dense0_bias (shape=(1024,), dtype=float32)\n",
       "  Parameter sequential1_dense1_weight (shape=(512, 0), dtype=float32)\n",
       "  Parameter sequential1_dense1_bias (shape=(512,), dtype=float32)\n",
       "  Parameter sequential1_dense2_weight (shape=(256, 0), dtype=float32)\n",
       "  Parameter sequential1_dense2_bias (shape=(256,), dtype=float32)\n",
       "  Parameter sequential1_dense3_weight (shape=(10, 0), dtype=float32)\n",
       "  Parameter sequential1_dense3_bias (shape=(10,), dtype=float32)\n",
       ")"
      ]
     },
     "execution_count": 34,
     "metadata": {},
     "output_type": "execute_result"
    }
   ],
   "source": [
    "net.collect_params()"
   ]
  },
  {
   "cell_type": "code",
   "execution_count": 35,
   "metadata": {
    "ExecuteTime": {
     "end_time": "2019-02-07T18:27:05.765722Z",
     "start_time": "2019-02-07T18:27:05.744001Z"
    }
   },
   "outputs": [],
   "source": [
    "net.collect_params().initialize(mx.initializer.Uniform(0.01), ctx=model_ctx)\n"
   ]
  },
  {
   "cell_type": "code",
   "execution_count": 36,
   "metadata": {
    "ExecuteTime": {
     "end_time": "2019-02-07T18:27:05.962227Z",
     "start_time": "2019-02-07T18:27:05.955532Z"
    }
   },
   "outputs": [
    {
     "data": {
      "text/plain": [
       "mxnet.gluon.parameter.ParameterDict"
      ]
     },
     "execution_count": 36,
     "metadata": {},
     "output_type": "execute_result"
    }
   ],
   "source": [
    "type(net.collect_params())"
   ]
  },
  {
   "cell_type": "code",
   "execution_count": 37,
   "metadata": {
    "ExecuteTime": {
     "end_time": "2019-02-07T18:27:06.207886Z",
     "start_time": "2019-02-07T18:27:06.200673Z"
    }
   },
   "outputs": [],
   "source": [
    "square_loss = gluon.loss.SoftmaxCrossEntropyLoss()"
   ]
  },
  {
   "cell_type": "code",
   "execution_count": 38,
   "metadata": {
    "ExecuteTime": {
     "end_time": "2019-02-07T18:27:06.571210Z",
     "start_time": "2019-02-07T18:27:06.557405Z"
    }
   },
   "outputs": [],
   "source": [
    "trainer = gluon.Trainer(net.collect_params(), 'sgd', {'learning_rate': 0.0001})\n"
   ]
  },
  {
   "cell_type": "code",
   "execution_count": 48,
   "metadata": {
    "ExecuteTime": {
     "end_time": "2019-02-07T18:29:40.639978Z",
     "start_time": "2019-02-07T18:29:40.621669Z"
    }
   },
   "outputs": [],
   "source": [
    "batch_size = 32\n",
    "train_data = gluon.data.DataLoader(\n",
    "    gluon.data.dataset.ArrayDataset(X_train, y_train), batch_size=batch_size, shuffle=True)\n",
    "\n",
    "test_data = gluon.data.DataLoader(\n",
    "    gluon.data.dataset.ArrayDataset(X_test, y_test), batch_size=batch_size, shuffle=True)"
   ]
  },
  {
   "cell_type": "code",
   "execution_count": 49,
   "metadata": {
    "ExecuteTime": {
     "end_time": "2019-02-07T18:29:41.305197Z",
     "start_time": "2019-02-07T18:29:41.295484Z"
    }
   },
   "outputs": [
    {
     "name": "stdout",
     "output_type": "stream",
     "text": [
      "1875.0\n"
     ]
    }
   ],
   "source": [
    "epochs = 10\n",
    "num_batches = num_examples / batch_size\n",
    "print(num_batches)"
   ]
  },
  {
   "cell_type": "code",
   "execution_count": 50,
   "metadata": {
    "ExecuteTime": {
     "end_time": "2019-02-07T18:29:41.572573Z",
     "start_time": "2019-02-07T18:29:41.562514Z"
    }
   },
   "outputs": [],
   "source": [
    "def train_loop(epochs):\n",
    "    for e in range(epochs):\n",
    "        cumulative_loss = 0\n",
    "        for i, (data, label) in enumerate(train_data):\n",
    "            data = data.as_in_context(model_ctx).reshape(-1,784)\n",
    "            label = label.as_in_context(model_ctx)\n",
    "            with autograd.record():\n",
    "                output = net(data)\n",
    "                loss = square_loss(output, label)\n",
    "            loss.backward()\n",
    "            trainer.step(batch_size)\n",
    "            cumulative_loss += nd.mean(loss).asscalar()\n",
    "            \n",
    "        test_accuracy = evaluate_accuracy(test_data, net)\n",
    "        train_accuracy = evaluate_accuracy(train_data, net)\n",
    "        print(\"Epoch %s. Loss: %s, Train_acc %s, Test_acc %s\" %\n",
    "          (e, cumulative_loss/num_examples, train_accuracy, test_accuracy))\n",
    "        print(\"Epoch %s, loss: %.4f\" % (e, cumulative_loss / num_examples))"
   ]
  },
  {
   "cell_type": "code",
   "execution_count": 51,
   "metadata": {
    "ExecuteTime": {
     "end_time": "2019-02-07T18:33:11.207122Z",
     "start_time": "2019-02-07T18:29:42.101345Z"
    }
   },
   "outputs": [
    {
     "name": "stdout",
     "output_type": "stream",
     "text": [
      "Epoch 0. Loss: 0.05307473219037056, Train_acc 0.5870333333333333, Test_acc 0.584\n",
      "Epoch 0, loss: 0.0531\n",
      "Epoch 1. Loss: 0.03445269978940487, Train_acc 0.6465666666666666, Test_acc 0.6333\n",
      "Epoch 1, loss: 0.0345\n",
      "Epoch 2. Loss: 0.027462654035290083, Train_acc 0.6597333333333333, Test_acc 0.6544\n",
      "Epoch 2, loss: 0.0275\n",
      "Epoch 3. Loss: 0.024285169814527035, Train_acc 0.7073166666666667, Test_acc 0.7007\n",
      "Epoch 3, loss: 0.0243\n",
      "Epoch 4. Loss: 0.022532109563052655, Train_acc 0.7301166666666666, Test_acc 0.719\n",
      "Epoch 4, loss: 0.0225\n",
      "Epoch 5. Loss: 0.021219958369930587, Train_acc 0.7520833333333333, Test_acc 0.7415\n",
      "Epoch 5, loss: 0.0212\n",
      "Epoch 6. Loss: 0.020155543450514474, Train_acc 0.7731666666666667, Test_acc 0.7596\n",
      "Epoch 6, loss: 0.0202\n",
      "Epoch 7. Loss: 0.019263958705961703, Train_acc 0.7863, Test_acc 0.7743\n",
      "Epoch 7, loss: 0.0193\n",
      "Epoch 8. Loss: 0.018499721808483204, Train_acc 0.79065, Test_acc 0.7798\n",
      "Epoch 8, loss: 0.0185\n",
      "Epoch 9. Loss: 0.017854982663691045, Train_acc 0.80525, Test_acc 0.7938\n",
      "Epoch 9, loss: 0.0179\n"
     ]
    }
   ],
   "source": [
    "train_loop(epochs)"
   ]
  },
  {
   "cell_type": "code",
   "execution_count": null,
   "metadata": {
    "ExecuteTime": {
     "end_time": "2019-02-07T18:27:10.114553Z",
     "start_time": "2019-02-07T18:27:08.496Z"
    }
   },
   "outputs": [],
   "source": [
    "def evaluate_accuracy(data_iterator, net):\n",
    "    acc = mx.metric.Accuracy()\n",
    "    for i, (data, label) in enumerate(data_iterator):\n",
    "        data = data.as_in_context(model_ctx).reshape((-1, 784))\n",
    "        label = label.as_in_context(model_ctx)\n",
    "        output = net(data)\n",
    "        predictions = nd.argmax(output, axis=1)\n",
    "        acc.update(preds=predictions, labels=label)\n",
    "    return acc.get()[1]"
   ]
  },
  {
   "cell_type": "code",
   "execution_count": 52,
   "metadata": {
    "ExecuteTime": {
     "end_time": "2019-02-07T18:35:35.808567Z",
     "start_time": "2019-02-07T18:35:35.738261Z"
    }
   },
   "outputs": [],
   "source": [
    "file_name = \"net.params\"\n",
    "net.save_parameters(file_name)"
   ]
  },
  {
   "cell_type": "code",
   "execution_count": null,
   "metadata": {},
   "outputs": [],
   "source": []
  }
 ],
 "metadata": {
  "kernelspec": {
   "display_name": "Python (data)",
   "language": "python",
   "name": "data"
  },
  "language_info": {
   "codemirror_mode": {
    "name": "ipython",
    "version": 3
   },
   "file_extension": ".py",
   "mimetype": "text/x-python",
   "name": "python",
   "nbconvert_exporter": "python",
   "pygments_lexer": "ipython3",
   "version": "3.6.7"
  }
 },
 "nbformat": 4,
 "nbformat_minor": 2
}
