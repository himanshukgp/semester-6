{
 "cells": [
  {
   "cell_type": "code",
   "execution_count": null,
   "metadata": {
    "ExecuteTime": {
     "end_time": "2019-02-07T16:02:16.052765Z",
     "start_time": "2019-02-07T16:02:16.028498Z"
    }
   },
   "outputs": [],
   "source": []
  },
  {
   "cell_type": "code",
   "execution_count": 1,
   "metadata": {
    "ExecuteTime": {
     "end_time": "2019-02-09T14:44:22.847943Z",
     "start_time": "2019-02-09T14:44:22.145874Z"
    }
   },
   "outputs": [],
   "source": [
    "from zipfile import ZipFile\n",
    "import numpy as np\n",
    "import mxnet as mx\n",
    "from mxnet import nd, autograd, gluon\n",
    "import mxnet.ndarray as F\n",
    "import random\n"
   ]
  },
  {
   "cell_type": "code",
   "execution_count": 2,
   "metadata": {
    "ExecuteTime": {
     "end_time": "2019-02-09T14:44:23.242009Z",
     "start_time": "2019-02-09T14:44:23.236453Z"
    }
   },
   "outputs": [],
   "source": [
    "mx.random.seed(1)\n",
    "random.seed(1)\n",
    "\n",
    "data_ctx = mx.cpu()\n",
    "model_ctx = mx.cpu()"
   ]
  },
  {
   "cell_type": "code",
   "execution_count": 3,
   "metadata": {
    "ExecuteTime": {
     "end_time": "2019-02-09T14:44:23.950346Z",
     "start_time": "2019-02-09T14:44:23.943443Z"
    }
   },
   "outputs": [],
   "source": [
    "class DataLoader(object):\n",
    "    def __init__(self, min_batch_size=32):\n",
    "        DIR = 'data/'\n",
    "        self.min_batch_size=min_batch_size\n",
    "        \n",
    "    \n",
    "    # Returns images and labels corresponding for training and testing. Default mode is train. \n",
    "    # For retrieving test data pass mode as 'test' in function call.\n",
    "    def load_data(self, mode = 'train'):\n",
    "        label_filename = mode + '_labels'\n",
    "        image_filename = mode + '_images'\n",
    "        label_zip = 'data/' + label_filename + '.zip'\n",
    "        image_zip = 'data/' + image_filename + '.zip'\n",
    "        with ZipFile(label_zip, 'r') as lblzip:\n",
    "            labels = np.frombuffer(lblzip.read(label_filename), dtype=np.uint8, offset=8)\n",
    "        with ZipFile(image_zip, 'r') as imgzip:\n",
    "            images = np.frombuffer(imgzip.read(image_filename), dtype=np.uint8, offset=16).reshape(len(labels), 784)\n",
    "        return images, labels"
   ]
  },
  {
   "cell_type": "code",
   "execution_count": 4,
   "metadata": {
    "ExecuteTime": {
     "end_time": "2019-02-09T14:44:24.833889Z",
     "start_time": "2019-02-09T14:44:24.505288Z"
    }
   },
   "outputs": [],
   "source": [
    "data_obj = DataLoader()\n",
    "X_train, y_train = data_obj.load_data(mode='train')\n",
    "X_train = X_train.astype('float32')\n",
    "y_train = y_train\n",
    "X_test, y_test = data_obj.load_data(mode='test')\n",
    "X_test = X_test.astype('float32')\n",
    "num_inputs = 784\n",
    "num_outputs = 10\n",
    "num_examples = X_train.shape[0]"
   ]
  },
  {
   "cell_type": "code",
   "execution_count": 5,
   "metadata": {
    "ExecuteTime": {
     "end_time": "2019-02-09T14:44:25.077213Z",
     "start_time": "2019-02-09T14:44:25.074373Z"
    }
   },
   "outputs": [
    {
     "name": "stdout",
     "output_type": "stream",
     "text": [
      "(60000, 784)\n",
      "(60000,)\n"
     ]
    }
   ],
   "source": [
    "print(X_train.shape)\n",
    "print(y_train.shape)"
   ]
  },
  {
   "cell_type": "code",
   "execution_count": 6,
   "metadata": {
    "ExecuteTime": {
     "end_time": "2019-02-09T14:44:26.754406Z",
     "start_time": "2019-02-09T14:44:26.750811Z"
    }
   },
   "outputs": [],
   "source": [
    "net = gluon.nn.Sequential()\n",
    "with net.name_scope():\n",
    "    net.add(gluon.nn.Dense(1024, activation=\"relu\"))\n",
    "    net.add(gluon.nn.Dense(512, activation=\"relu\"))\n",
    "    net.add(gluon.nn.Dense(256, activation=\"relu\"))\n",
    "    net.add(gluon.nn.Dense(10))"
   ]
  },
  {
   "cell_type": "code",
   "execution_count": 7,
   "metadata": {
    "ExecuteTime": {
     "end_time": "2019-02-09T14:44:27.346408Z",
     "start_time": "2019-02-09T14:44:27.338127Z"
    }
   },
   "outputs": [
    {
     "data": {
      "text/plain": [
       "sequential0_ (\n",
       "  Parameter sequential0_dense0_weight (shape=(1024, 0), dtype=float32)\n",
       "  Parameter sequential0_dense0_bias (shape=(1024,), dtype=float32)\n",
       "  Parameter sequential0_dense1_weight (shape=(512, 0), dtype=float32)\n",
       "  Parameter sequential0_dense1_bias (shape=(512,), dtype=float32)\n",
       "  Parameter sequential0_dense2_weight (shape=(256, 0), dtype=float32)\n",
       "  Parameter sequential0_dense2_bias (shape=(256,), dtype=float32)\n",
       "  Parameter sequential0_dense3_weight (shape=(10, 0), dtype=float32)\n",
       "  Parameter sequential0_dense3_bias (shape=(10,), dtype=float32)\n",
       ")"
      ]
     },
     "execution_count": 7,
     "metadata": {},
     "output_type": "execute_result"
    }
   ],
   "source": [
    "net.collect_params()"
   ]
  },
  {
   "cell_type": "code",
   "execution_count": 8,
   "metadata": {
    "ExecuteTime": {
     "end_time": "2019-02-09T14:44:27.821910Z",
     "start_time": "2019-02-09T14:44:27.817217Z"
    }
   },
   "outputs": [],
   "source": [
    "net.collect_params().initialize(mx.initializer.Uniform(0.01), ctx=model_ctx)\n"
   ]
  },
  {
   "cell_type": "code",
   "execution_count": 9,
   "metadata": {
    "ExecuteTime": {
     "end_time": "2019-02-09T14:44:28.373502Z",
     "start_time": "2019-02-09T14:44:28.370186Z"
    }
   },
   "outputs": [
    {
     "data": {
      "text/plain": [
       "mxnet.gluon.parameter.ParameterDict"
      ]
     },
     "execution_count": 9,
     "metadata": {},
     "output_type": "execute_result"
    }
   ],
   "source": [
    "type(net.collect_params())"
   ]
  },
  {
   "cell_type": "code",
   "execution_count": 10,
   "metadata": {
    "ExecuteTime": {
     "end_time": "2019-02-09T14:44:28.714240Z",
     "start_time": "2019-02-09T14:44:28.711380Z"
    }
   },
   "outputs": [],
   "source": [
    "square_loss = gluon.loss.SoftmaxCrossEntropyLoss()"
   ]
  },
  {
   "cell_type": "code",
   "execution_count": 11,
   "metadata": {
    "ExecuteTime": {
     "end_time": "2019-02-09T14:44:28.959261Z",
     "start_time": "2019-02-09T14:44:28.952689Z"
    }
   },
   "outputs": [],
   "source": [
    "trainer = gluon.Trainer(net.collect_params(), 'sgd', {'learning_rate': 0.0001})\n"
   ]
  },
  {
   "cell_type": "code",
   "execution_count": 12,
   "metadata": {
    "ExecuteTime": {
     "end_time": "2019-02-09T14:44:29.212168Z",
     "start_time": "2019-02-09T14:44:29.207004Z"
    }
   },
   "outputs": [],
   "source": [
    "batch_size = 32\n",
    "train_data = gluon.data.DataLoader(\n",
    "    gluon.data.dataset.ArrayDataset(X_train, y_train), batch_size=batch_size, shuffle=True)\n",
    "\n",
    "test_data = gluon.data.DataLoader(\n",
    "    gluon.data.dataset.ArrayDataset(X_test, y_test), batch_size=batch_size, shuffle=True)"
   ]
  },
  {
   "cell_type": "code",
   "execution_count": 13,
   "metadata": {
    "ExecuteTime": {
     "end_time": "2019-02-09T14:44:29.473386Z",
     "start_time": "2019-02-09T14:44:29.470331Z"
    }
   },
   "outputs": [
    {
     "name": "stdout",
     "output_type": "stream",
     "text": [
      "1875.0\n"
     ]
    }
   ],
   "source": [
    "epochs = 10\n",
    "num_batches = num_examples / batch_size\n",
    "print(num_batches)"
   ]
  },
  {
   "cell_type": "code",
   "execution_count": 14,
   "metadata": {
    "ExecuteTime": {
     "end_time": "2019-02-09T14:44:29.841207Z",
     "start_time": "2019-02-09T14:44:29.837426Z"
    }
   },
   "outputs": [],
   "source": [
    "def evaluate_accuracy(data_iterator, net):\n",
    "    acc = mx.metric.Accuracy()\n",
    "    for i, (data, label) in enumerate(data_iterator):\n",
    "        data = data.as_in_context(model_ctx).reshape((-1, 784))\n",
    "        label = label.as_in_context(model_ctx)\n",
    "        output = net(data)\n",
    "        predictions = nd.argmax(output, axis=1)\n",
    "        acc.update(preds=predictions, labels=label)\n",
    "    return acc.get()[1]"
   ]
  },
  {
   "cell_type": "code",
   "execution_count": 15,
   "metadata": {
    "ExecuteTime": {
     "end_time": "2019-02-09T14:44:30.431149Z",
     "start_time": "2019-02-09T14:44:30.426027Z"
    }
   },
   "outputs": [],
   "source": []
  },
  {
   "cell_type": "code",
   "execution_count": null,
   "metadata": {},
   "outputs": [],
   "source": []
  },
  {
   "cell_type": "code",
   "execution_count": 44,
   "metadata": {
    "ExecuteTime": {
     "end_time": "2019-02-09T16:13:28.298416Z",
     "start_time": "2019-02-09T16:13:28.288287Z"
    }
   },
   "outputs": [],
   "source": [
    "\n",
    "\n",
    "\n",
    "\n",
    "def train_loop(epochs):\n",
    "    \n",
    "    loss_ = []\n",
    "    \n",
    "    period = 10\n",
    "    for e in range(2):\n",
    "        cumulative_loss = 0\n",
    "        total_loss = []\n",
    "        sum = 0\n",
    "        for i, (data, label) in enumerate(train_data):\n",
    "            data = data.as_in_context(model_ctx).reshape(-1,784)\n",
    "            label = label.as_in_context(model_ctx)\n",
    "            with autograd.record():\n",
    "                output = net(data)\n",
    "                loss = square_loss(output, label)\n",
    "                \n",
    "            loss.backward()\n",
    "            trainer.step(batch_size)\n",
    "            cumulative_loss += nd.mean(loss).asscalar()\n",
    "            \n",
    "            \n",
    "            if i * batch_size % period == 0:\n",
    "                total_loss.append(np.mean(nd.mean(loss).asnumpy()))\n",
    "                sum = sum+1\n",
    "                \n",
    "        loss_.append(cumulative_loss/sum)\n",
    "            \n",
    "        test_accuracy = evaluate_accuracy(test_data, net)\n",
    "        train_accuracy = evaluate_accuracy(train_data, net)\n",
    "        \n",
    "        test_accuracy1.append(test_accuracy)\n",
    "        train_accuracy1.append(train_accuracy)\n",
    "        \n",
    "        print(\"Epoch %s. Loss: %s, Train_acc %s, Test_acc %s\" % (e, cumulative_loss/num_examples,\n",
    "                                                                 train_accuracy, test_accuracy))\n",
    "        #print(\"Epoch %s, loss: %.4f\" % (e, cumulative_loss / num_examples))\n",
    "        \n",
    "    return loss_\n",
    "    \n",
    "\n",
    "    "
   ]
  },
  {
   "cell_type": "code",
   "execution_count": 45,
   "metadata": {
    "ExecuteTime": {
     "end_time": "2019-02-09T16:14:20.744044Z",
     "start_time": "2019-02-09T16:13:28.834854Z"
    }
   },
   "outputs": [
    {
     "name": "stdout",
     "output_type": "stream",
     "text": [
      "Epoch 0. Loss: 0.012432920054097971, Train_acc 0.8634, Test_acc 0.8453\n",
      "Epoch 1. Loss: 0.012296646420471371, Train_acc 0.8630333333333333, Test_acc 0.8471\n"
     ]
    }
   ],
   "source": [
    "loss_ = train_loop(epochs)"
   ]
  },
  {
   "cell_type": "code",
   "execution_count": 51,
   "metadata": {
    "ExecuteTime": {
     "end_time": "2019-02-09T16:16:47.515313Z",
     "start_time": "2019-02-09T16:16:47.354126Z"
    }
   },
   "outputs": [
    {
     "data": {
      "image/png": "[encoded data removed]",
      "text/plain": [
       "<Figure size 432x288 with 1 Axes>"
      ]
     },
     "metadata": {
      "needs_background": "light"
     },
     "output_type": "display_data"
    }
   ],
   "source": [
    "import matplotlib.pyplot as plt\n",
    "\n",
    "plt.plot(np.arange(2), loss_, 'r-')\n",
    "plt.ylabel('some numbers')\n",
    "plt.show()"
   ]
  },
  {
   "cell_type": "code",
   "execution_count": 46,
   "metadata": {
    "ExecuteTime": {
     "end_time": "2019-02-09T16:14:56.381412Z",
     "start_time": "2019-02-09T16:14:56.375680Z"
    }
   },
   "outputs": [
    {
     "data": {
      "text/plain": [
       "[1.9892672086556753, 1.9674634272754192]"
      ]
     },
     "execution_count": 46,
     "metadata": {},
     "output_type": "execute_result"
    }
   ],
   "source": [
    "loss_"
   ]
  },
  {
   "cell_type": "code",
   "execution_count": 52,
   "metadata": {
    "ExecuteTime": {
     "end_time": "2019-02-07T18:35:35.808567Z",
     "start_time": "2019-02-07T18:35:35.738261Z"
    }
   },
   "outputs": [],
   "source": [
    "file_name = \"net.params\"\n",
    "net.save_parameters(file_name)"
   ]
  },
  {
   "cell_type": "code",
   "execution_count": null,
   "metadata": {},
   "outputs": [],
   "source": []
  }
 ],
 "metadata": {
  "kernelspec": {
   "display_name": "Python (data)",
   "language": "python",
   "name": "data"
  },
  "language_info": {
   "codemirror_mode": {
    "name": "ipython",
    "version": 3
   },
   "file_extension": ".py",
   "mimetype": "text/x-python",
   "name": "python",
   "nbconvert_exporter": "python",
   "pygments_lexer": "ipython3",
   "version": "3.6.7"
  }
 },
 "nbformat": 4,
 "nbformat_minor": 2
}
