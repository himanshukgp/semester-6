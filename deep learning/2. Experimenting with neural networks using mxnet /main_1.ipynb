{
 "cells": [
  {
   "cell_type": "code",
   "execution_count": null,
   "metadata": {
    "ExecuteTime": {
     "end_time": "2019-02-07T16:02:16.052765Z",
     "start_time": "2019-02-07T16:02:16.028498Z"
    }
   },
   "outputs": [],
   "source": []
  },
  {
   "cell_type": "code",
   "execution_count": 1,
   "metadata": {
    "ExecuteTime": {
     "end_time": "2019-02-09T10:08:58.193960Z",
     "start_time": "2019-02-09T10:08:57.115055Z"
    }
   },
   "outputs": [],
   "source": [
    "from zipfile import ZipFile\n",
    "import numpy as np\n",
    "import mxnet as mx\n",
    "from mxnet import nd, autograd, gluon\n",
    "import mxnet.ndarray as F\n",
    "import random\n"
   ]
  },
  {
   "cell_type": "code",
   "execution_count": 2,
   "metadata": {
    "ExecuteTime": {
     "end_time": "2019-02-09T10:08:59.069818Z",
     "start_time": "2019-02-09T10:08:59.066591Z"
    }
   },
   "outputs": [],
   "source": [
    "mx.random.seed(5)\n",
    "random.seed(5)\n",
    "\n",
    "data_ctx = mx.cpu()\n",
    "model_ctx = mx.cpu()"
   ]
  },
  {
   "cell_type": "code",
   "execution_count": 3,
   "metadata": {
    "ExecuteTime": {
     "end_time": "2019-02-09T10:08:59.825970Z",
     "start_time": "2019-02-09T10:08:59.818345Z"
    }
   },
   "outputs": [],
   "source": [
    "class DataLoader(object):\n",
    "    def __init__(self, min_batch_size=32):\n",
    "        DIR = 'data/'\n",
    "        self.min_batch_size=min_batch_size\n",
    "        \n",
    "    \n",
    "    # Returns images and labels corresponding for training and testing. Default mode is train. \n",
    "    # For retrieving test data pass mode as 'test' in function call.\n",
    "    def load_data(self, mode = 'train'):\n",
    "        label_filename = mode + '_labels'\n",
    "        image_filename = mode + '_images'\n",
    "        label_zip = 'data/' + label_filename + '.zip'\n",
    "        image_zip = 'data/' + image_filename + '.zip'\n",
    "        with ZipFile(label_zip, 'r') as lblzip:\n",
    "            labels = np.frombuffer(lblzip.read(label_filename), dtype=np.uint8, offset=8)\n",
    "        with ZipFile(image_zip, 'r') as imgzip:\n",
    "            images = np.frombuffer(imgzip.read(image_filename), dtype=np.uint8, offset=16).reshape(len(labels), 784)\n",
    "        return images, labels"
   ]
  },
  {
   "cell_type": "code",
   "execution_count": 4,
   "metadata": {
    "ExecuteTime": {
     "end_time": "2019-02-09T10:09:00.802220Z",
     "start_time": "2019-02-09T10:09:00.365904Z"
    }
   },
   "outputs": [],
   "source": [
    "data_obj = DataLoader()\n",
    "X_train, y_train = data_obj.load_data(mode='train')\n",
    "X_train = X_train.astype('float32')\n",
    "y_train = y_train\n",
    "X_test, y_test = data_obj.load_data(mode='test')\n",
    "X_test = X_test.astype('float32')\n",
    "num_inputs = 784\n",
    "num_outputs = 10\n",
    "num_examples = X_train.shape[0]"
   ]
  },
  {
   "cell_type": "code",
   "execution_count": 5,
   "metadata": {
    "ExecuteTime": {
     "end_time": "2019-02-09T10:09:00.871708Z",
     "start_time": "2019-02-09T10:09:00.852812Z"
    }
   },
   "outputs": [
    {
     "name": "stdout",
     "output_type": "stream",
     "text": [
      "(60000, 784)\n",
      "(60000,)\n"
     ]
    }
   ],
   "source": [
    "print(X_train.shape)\n",
    "print(y_train.shape)"
   ]
  },
  {
   "cell_type": "code",
   "execution_count": 6,
   "metadata": {
    "ExecuteTime": {
     "end_time": "2019-02-09T10:09:01.454655Z",
     "start_time": "2019-02-09T10:09:01.416664Z"
    }
   },
   "outputs": [],
   "source": [
    "net = gluon.nn.Sequential()\n",
    "with net.name_scope():\n",
    "    net.add(gluon.nn.Dense(512, activation=\"relu\"))\n",
    "    net.add(gluon.nn.Dense(128, activation=\"relu\"))\n",
    "    net.add(gluon.nn.Dense(64, activation=\"relu\"))\n",
    "    net.add(gluon.nn.Dense(32, activation=\"relu\"))\n",
    "    net.add(gluon.nn.Dense(16, activation=\"relu\"))\n",
    "    net.add(gluon.nn.Dense(10))"
   ]
  },
  {
   "cell_type": "code",
   "execution_count": 7,
   "metadata": {
    "ExecuteTime": {
     "end_time": "2019-02-09T10:09:02.059811Z",
     "start_time": "2019-02-09T10:09:01.960254Z"
    }
   },
   "outputs": [
    {
     "data": {
      "text/plain": [
       "sequential0_ (\n",
       "  Parameter sequential0_dense0_weight (shape=(512, 0), dtype=float32)\n",
       "  Parameter sequential0_dense0_bias (shape=(512,), dtype=float32)\n",
       "  Parameter sequential0_dense1_weight (shape=(128, 0), dtype=float32)\n",
       "  Parameter sequential0_dense1_bias (shape=(128,), dtype=float32)\n",
       "  Parameter sequential0_dense2_weight (shape=(64, 0), dtype=float32)\n",
       "  Parameter sequential0_dense2_bias (shape=(64,), dtype=float32)\n",
       "  Parameter sequential0_dense3_weight (shape=(32, 0), dtype=float32)\n",
       "  Parameter sequential0_dense3_bias (shape=(32,), dtype=float32)\n",
       "  Parameter sequential0_dense4_weight (shape=(16, 0), dtype=float32)\n",
       "  Parameter sequential0_dense4_bias (shape=(16,), dtype=float32)\n",
       "  Parameter sequential0_dense5_weight (shape=(10, 0), dtype=float32)\n",
       "  Parameter sequential0_dense5_bias (shape=(10,), dtype=float32)\n",
       ")"
      ]
     },
     "execution_count": 7,
     "metadata": {},
     "output_type": "execute_result"
    }
   ],
   "source": [
    "net.collect_params()"
   ]
  },
  {
   "cell_type": "code",
   "execution_count": 8,
   "metadata": {
    "ExecuteTime": {
     "end_time": "2019-02-09T10:09:02.584767Z",
     "start_time": "2019-02-09T10:09:02.531763Z"
    }
   },
   "outputs": [],
   "source": [
    "net.collect_params().initialize(mx.initializer.Normal(), ctx=model_ctx)\n"
   ]
  },
  {
   "cell_type": "code",
   "execution_count": 9,
   "metadata": {
    "ExecuteTime": {
     "end_time": "2019-02-09T10:09:03.155953Z",
     "start_time": "2019-02-09T10:09:03.127149Z"
    }
   },
   "outputs": [
    {
     "data": {
      "text/plain": [
       "mxnet.gluon.parameter.ParameterDict"
      ]
     },
     "execution_count": 9,
     "metadata": {},
     "output_type": "execute_result"
    }
   ],
   "source": [
    "type(net.collect_params())"
   ]
  },
  {
   "cell_type": "code",
   "execution_count": 10,
   "metadata": {
    "ExecuteTime": {
     "end_time": "2019-02-09T10:09:03.691930Z",
     "start_time": "2019-02-09T10:09:03.671706Z"
    }
   },
   "outputs": [],
   "source": [
    "square_loss = gluon.loss.SoftmaxCrossEntropyLoss()"
   ]
  },
  {
   "cell_type": "code",
   "execution_count": 21,
   "metadata": {
    "ExecuteTime": {
     "end_time": "2019-02-09T14:29:21.217809Z",
     "start_time": "2019-02-09T14:29:21.211771Z"
    }
   },
   "outputs": [],
   "source": [
    "trainer = gluon.Trainer(net.collect_params(), 'sgd', {'learning_rate': 0.0001})\n"
   ]
  },
  {
   "cell_type": "code",
   "execution_count": 22,
   "metadata": {
    "ExecuteTime": {
     "end_time": "2019-02-09T14:29:21.715188Z",
     "start_time": "2019-02-09T14:29:21.710383Z"
    }
   },
   "outputs": [],
   "source": [
    "batch_size = 128\n",
    "train_data = gluon.data.DataLoader(\n",
    "    gluon.data.dataset.ArrayDataset(X_train, y_train), batch_size=batch_size, shuffle=True)\n",
    "\n",
    "test_data = gluon.data.DataLoader(\n",
    "    gluon.data.dataset.ArrayDataset(X_test, y_test), batch_size=batch_size, shuffle=True)"
   ]
  },
  {
   "cell_type": "code",
   "execution_count": 23,
   "metadata": {
    "ExecuteTime": {
     "end_time": "2019-02-09T14:29:22.196182Z",
     "start_time": "2019-02-09T14:29:22.192096Z"
    }
   },
   "outputs": [
    {
     "name": "stdout",
     "output_type": "stream",
     "text": [
      "468.75\n"
     ]
    }
   ],
   "source": [
    "epochs = 100\n",
    "num_batches = num_examples / batch_size\n",
    "print(num_batches)"
   ]
  },
  {
   "cell_type": "code",
   "execution_count": 24,
   "metadata": {
    "ExecuteTime": {
     "end_time": "2019-02-09T14:29:22.814288Z",
     "start_time": "2019-02-09T14:29:22.802141Z"
    }
   },
   "outputs": [],
   "source": [
    "def train_loop(epochs):\n",
    "    test_accuracy1 = []\n",
    "    train_accuracy1 = []\n",
    "    for e in range(epochs):\n",
    "        cumulative_loss = 0\n",
    "        for i, (data, label) in enumerate(train_data):\n",
    "            data = data.as_in_context(model_ctx)\n",
    "            label = label.as_in_context(model_ctx)\n",
    "            with autograd.record():\n",
    "                output = net(data)\n",
    "                loss = square_loss(output, label)\n",
    "            loss.backward()\n",
    "            trainer.step(batch_size)\n",
    "            cumulative_loss += nd.mean(loss).asscalar()\n",
    "            \n",
    "        test_accuracy = evaluate_accuracy(test_data, net)\n",
    "        train_accuracy = evaluate_accuracy(train_data, net)\n",
    "        \n",
    "        test_accuracy1.append(evaluate_accuracy(test_data, net))\n",
    "        train_accuracy1.append(evaluate_accuracy(train_data, net))\n",
    "        \n",
    "        print(\"Epoch %s. Loss: %s, Train_acc %s, Test_acc %s\" %\n",
    "          (e, cumulative_loss/num_examples, train_accuracy, test_accuracy))\n",
    "        #print(\"Epoch %s, loss: %.4f\" % (e, cumulative_loss / num_examples))\n",
    "        \n",
    "    "
   ]
  },
  {
   "cell_type": "code",
   "execution_count": 25,
   "metadata": {
    "ExecuteTime": {
     "end_time": "2019-02-09T14:29:23.527363Z",
     "start_time": "2019-02-09T14:29:23.518098Z"
    }
   },
   "outputs": [],
   "source": [
    "def evaluate_accuracy(data_iterator, net):\n",
    "    acc = mx.metric.Accuracy()\n",
    "    for i, (data, label) in enumerate(data_iterator):\n",
    "        data = data.as_in_context(model_ctx).reshape((-1, 784))\n",
    "        label = label.as_in_context(model_ctx)\n",
    "        output = net(data)\n",
    "        predictions = nd.argmax(output, axis=1)\n",
    "        acc.update(preds=predictions, labels=label)\n",
    "    return acc.get()[1]"
   ]
  },
  {
   "cell_type": "code",
   "execution_count": 26,
   "metadata": {
    "ExecuteTime": {
     "end_time": "2019-02-09T14:33:32.843573Z",
     "start_time": "2019-02-09T14:29:24.209812Z"
    }
   },
   "outputs": [
    {
     "name": "stdout",
     "output_type": "stream",
     "text": [
      "Epoch 0. Loss: 0.017997774839401244, Train_acc 0.23345, Test_acc 0.2289\n",
      "Epoch 1. Loss: 0.017997772034009298, Train_acc 0.23361666666666667, Test_acc 0.2294\n",
      "Epoch 2. Loss: 0.01799776908159256, Train_acc 0.23366666666666666, Test_acc 0.2294\n",
      "Epoch 3. Loss: 0.017997766371568046, Train_acc 0.2338, Test_acc 0.2292\n",
      "Epoch 4. Loss: 0.017997763272126516, Train_acc 0.23396666666666666, Test_acc 0.2293\n",
      "Epoch 5. Loss: 0.017997760283946992, Train_acc 0.234, Test_acc 0.2291\n",
      "Epoch 6. Loss: 0.01799775728782018, Train_acc 0.23425, Test_acc 0.2289\n",
      "Epoch 7. Loss: 0.01799775442679723, Train_acc 0.2346, Test_acc 0.2289\n",
      "Epoch 8. Loss: 0.0179977512439092, Train_acc 0.23495, Test_acc 0.2295\n",
      "Epoch 9. Loss: 0.01799774824778239, Train_acc 0.23521666666666666, Test_acc 0.2289\n",
      "Epoch 10. Loss: 0.017997745231787363, Train_acc 0.23573333333333332, Test_acc 0.2297\n",
      "Epoch 11. Loss: 0.01799774218002955, Train_acc 0.23616666666666666, Test_acc 0.2301\n",
      "Epoch 12. Loss: 0.017997739112377165, Train_acc 0.2364, Test_acc 0.2306\n",
      "Epoch 13. Loss: 0.017997736032803854, Train_acc 0.23635, Test_acc 0.2313\n",
      "Epoch 14. Loss: 0.017997733092308045, Train_acc 0.23705, Test_acc 0.2318\n",
      "Epoch 15. Loss: 0.01799772974650065, Train_acc 0.23723333333333332, Test_acc 0.2322\n",
      "Epoch 16. Loss: 0.017997726690769194, Train_acc 0.23768333333333333, Test_acc 0.2324\n",
      "Epoch 17. Loss: 0.01799772343635559, Train_acc 0.23796666666666666, Test_acc 0.2332\n",
      "Epoch 18. Loss: 0.017997720392545064, Train_acc 0.2379, Test_acc 0.2331\n",
      "Epoch 19. Loss: 0.0179977170586586, Train_acc 0.23865, Test_acc 0.2335\n",
      "Epoch 20. Loss: 0.017997713907559713, Train_acc 0.2392, Test_acc 0.2334\n",
      "Epoch 21. Loss: 0.01799771065711975, Train_acc 0.23963333333333334, Test_acc 0.2334\n",
      "Epoch 22. Loss: 0.017997707442442577, Train_acc 0.24, Test_acc 0.234\n"
     ]
    },
    {
     "ename": "KeyboardInterrupt",
     "evalue": "",
     "output_type": "error",
     "traceback": [
      "\u001b[0;31m---------------------------------------------------------------------------\u001b[0m",
      "\u001b[0;31mKeyboardInterrupt\u001b[0m                         Traceback (most recent call last)",
      "\u001b[0;32m<ipython-input-26-57cd11dc26e0>\u001b[0m in \u001b[0;36m<module>\u001b[0;34m\u001b[0m\n\u001b[0;32m----> 1\u001b[0;31m \u001b[0mtrain_loop\u001b[0m\u001b[0;34m(\u001b[0m\u001b[0mepochs\u001b[0m\u001b[0;34m)\u001b[0m\u001b[0;34m\u001b[0m\u001b[0;34m\u001b[0m\u001b[0m\n\u001b[0m",
      "\u001b[0;32m<ipython-input-24-c6d72633ae4a>\u001b[0m in \u001b[0;36mtrain_loop\u001b[0;34m(epochs)\u001b[0m\n\u001b[1;32m     14\u001b[0m             \u001b[0mcumulative_loss\u001b[0m \u001b[0;34m+=\u001b[0m \u001b[0mnd\u001b[0m\u001b[0;34m.\u001b[0m\u001b[0mmean\u001b[0m\u001b[0;34m(\u001b[0m\u001b[0mloss\u001b[0m\u001b[0;34m)\u001b[0m\u001b[0;34m.\u001b[0m\u001b[0masscalar\u001b[0m\u001b[0;34m(\u001b[0m\u001b[0;34m)\u001b[0m\u001b[0;34m\u001b[0m\u001b[0;34m\u001b[0m\u001b[0m\n\u001b[1;32m     15\u001b[0m \u001b[0;34m\u001b[0m\u001b[0m\n\u001b[0;32m---> 16\u001b[0;31m         \u001b[0mtest_accuracy\u001b[0m \u001b[0;34m=\u001b[0m \u001b[0mevaluate_accuracy\u001b[0m\u001b[0;34m(\u001b[0m\u001b[0mtest_data\u001b[0m\u001b[0;34m,\u001b[0m \u001b[0mnet\u001b[0m\u001b[0;34m)\u001b[0m\u001b[0;34m\u001b[0m\u001b[0;34m\u001b[0m\u001b[0m\n\u001b[0m\u001b[1;32m     17\u001b[0m         \u001b[0mtrain_accuracy\u001b[0m \u001b[0;34m=\u001b[0m \u001b[0mevaluate_accuracy\u001b[0m\u001b[0;34m(\u001b[0m\u001b[0mtrain_data\u001b[0m\u001b[0;34m,\u001b[0m \u001b[0mnet\u001b[0m\u001b[0;34m)\u001b[0m\u001b[0;34m\u001b[0m\u001b[0;34m\u001b[0m\u001b[0m\n\u001b[1;32m     18\u001b[0m \u001b[0;34m\u001b[0m\u001b[0m\n",
      "\u001b[0;32m<ipython-input-25-91dfe585b95e>\u001b[0m in \u001b[0;36mevaluate_accuracy\u001b[0;34m(data_iterator, net)\u001b[0m\n\u001b[1;32m      6\u001b[0m         \u001b[0moutput\u001b[0m \u001b[0;34m=\u001b[0m \u001b[0mnet\u001b[0m\u001b[0;34m(\u001b[0m\u001b[0mdata\u001b[0m\u001b[0;34m)\u001b[0m\u001b[0;34m\u001b[0m\u001b[0;34m\u001b[0m\u001b[0m\n\u001b[1;32m      7\u001b[0m         \u001b[0mpredictions\u001b[0m \u001b[0;34m=\u001b[0m \u001b[0mnd\u001b[0m\u001b[0;34m.\u001b[0m\u001b[0margmax\u001b[0m\u001b[0;34m(\u001b[0m\u001b[0moutput\u001b[0m\u001b[0;34m,\u001b[0m \u001b[0maxis\u001b[0m\u001b[0;34m=\u001b[0m\u001b[0;36m1\u001b[0m\u001b[0;34m)\u001b[0m\u001b[0;34m\u001b[0m\u001b[0;34m\u001b[0m\u001b[0m\n\u001b[0;32m----> 8\u001b[0;31m         \u001b[0macc\u001b[0m\u001b[0;34m.\u001b[0m\u001b[0mupdate\u001b[0m\u001b[0;34m(\u001b[0m\u001b[0mpreds\u001b[0m\u001b[0;34m=\u001b[0m\u001b[0mpredictions\u001b[0m\u001b[0;34m,\u001b[0m \u001b[0mlabels\u001b[0m\u001b[0;34m=\u001b[0m\u001b[0mlabel\u001b[0m\u001b[0;34m)\u001b[0m\u001b[0;34m\u001b[0m\u001b[0;34m\u001b[0m\u001b[0m\n\u001b[0m\u001b[1;32m      9\u001b[0m     \u001b[0;32mreturn\u001b[0m \u001b[0macc\u001b[0m\u001b[0;34m.\u001b[0m\u001b[0mget\u001b[0m\u001b[0;34m(\u001b[0m\u001b[0;34m)\u001b[0m\u001b[0;34m[\u001b[0m\u001b[0;36m1\u001b[0m\u001b[0;34m]\u001b[0m\u001b[0;34m\u001b[0m\u001b[0;34m\u001b[0m\u001b[0m\n",
      "\u001b[0;32m~/anaconda3/envs/data/lib/python3.6/site-packages/mxnet/metric.py\u001b[0m in \u001b[0;36mupdate\u001b[0;34m(self, labels, preds)\u001b[0m\n\u001b[1;32m    416\u001b[0m             \u001b[0;32mif\u001b[0m \u001b[0mpred_label\u001b[0m\u001b[0;34m.\u001b[0m\u001b[0mshape\u001b[0m \u001b[0;34m!=\u001b[0m \u001b[0mlabel\u001b[0m\u001b[0;34m.\u001b[0m\u001b[0mshape\u001b[0m\u001b[0;34m:\u001b[0m\u001b[0;34m\u001b[0m\u001b[0;34m\u001b[0m\u001b[0m\n\u001b[1;32m    417\u001b[0m                 \u001b[0mpred_label\u001b[0m \u001b[0;34m=\u001b[0m \u001b[0mndarray\u001b[0m\u001b[0;34m.\u001b[0m\u001b[0margmax\u001b[0m\u001b[0;34m(\u001b[0m\u001b[0mpred_label\u001b[0m\u001b[0;34m,\u001b[0m \u001b[0maxis\u001b[0m\u001b[0;34m=\u001b[0m\u001b[0mself\u001b[0m\u001b[0;34m.\u001b[0m\u001b[0maxis\u001b[0m\u001b[0;34m)\u001b[0m\u001b[0;34m\u001b[0m\u001b[0;34m\u001b[0m\u001b[0m\n\u001b[0;32m--> 418\u001b[0;31m             \u001b[0mpred_label\u001b[0m \u001b[0;34m=\u001b[0m \u001b[0mpred_label\u001b[0m\u001b[0;34m.\u001b[0m\u001b[0masnumpy\u001b[0m\u001b[0;34m(\u001b[0m\u001b[0;34m)\u001b[0m\u001b[0;34m.\u001b[0m\u001b[0mastype\u001b[0m\u001b[0;34m(\u001b[0m\u001b[0;34m'int32'\u001b[0m\u001b[0;34m)\u001b[0m\u001b[0;34m\u001b[0m\u001b[0;34m\u001b[0m\u001b[0m\n\u001b[0m\u001b[1;32m    419\u001b[0m             \u001b[0mlabel\u001b[0m \u001b[0;34m=\u001b[0m \u001b[0mlabel\u001b[0m\u001b[0;34m.\u001b[0m\u001b[0masnumpy\u001b[0m\u001b[0;34m(\u001b[0m\u001b[0;34m)\u001b[0m\u001b[0;34m.\u001b[0m\u001b[0mastype\u001b[0m\u001b[0;34m(\u001b[0m\u001b[0;34m'int32'\u001b[0m\u001b[0;34m)\u001b[0m\u001b[0;34m\u001b[0m\u001b[0;34m\u001b[0m\u001b[0m\n\u001b[1;32m    420\u001b[0m             \u001b[0;31m# flatten before checking shapes to avoid shape miss match\u001b[0m\u001b[0;34m\u001b[0m\u001b[0;34m\u001b[0m\u001b[0;34m\u001b[0m\u001b[0m\n",
      "\u001b[0;32m~/anaconda3/envs/data/lib/python3.6/site-packages/mxnet/ndarray/ndarray.py\u001b[0m in \u001b[0;36masnumpy\u001b[0;34m(self)\u001b[0m\n\u001b[1;32m   1970\u001b[0m             \u001b[0mself\u001b[0m\u001b[0;34m.\u001b[0m\u001b[0mhandle\u001b[0m\u001b[0;34m,\u001b[0m\u001b[0;34m\u001b[0m\u001b[0;34m\u001b[0m\u001b[0m\n\u001b[1;32m   1971\u001b[0m             \u001b[0mdata\u001b[0m\u001b[0;34m.\u001b[0m\u001b[0mctypes\u001b[0m\u001b[0;34m.\u001b[0m\u001b[0mdata_as\u001b[0m\u001b[0;34m(\u001b[0m\u001b[0mctypes\u001b[0m\u001b[0;34m.\u001b[0m\u001b[0mc_void_p\u001b[0m\u001b[0;34m)\u001b[0m\u001b[0;34m,\u001b[0m\u001b[0;34m\u001b[0m\u001b[0;34m\u001b[0m\u001b[0m\n\u001b[0;32m-> 1972\u001b[0;31m             ctypes.c_size_t(data.size)))\n\u001b[0m\u001b[1;32m   1973\u001b[0m         \u001b[0;32mreturn\u001b[0m \u001b[0mdata\u001b[0m\u001b[0;34m\u001b[0m\u001b[0;34m\u001b[0m\u001b[0m\n\u001b[1;32m   1974\u001b[0m \u001b[0;34m\u001b[0m\u001b[0m\n",
      "\u001b[0;31mKeyboardInterrupt\u001b[0m: "
     ]
    }
   ],
   "source": [
    "train_loop(epochs)"
   ]
  },
  {
   "cell_type": "code",
   "execution_count": null,
   "metadata": {
    "ExecuteTime": {
     "end_time": "2019-02-09T14:33:32.846236Z",
     "start_time": "2019-02-09T14:29:26.081Z"
    }
   },
   "outputs": [],
   "source": [
    "import matplotlib.pyplot as plt\n",
    "\n",
    "fig = plt.figure(figsize=(20, 9))\n",
    "train_plot = fig.add_subplot(1, 2, 1)\n",
    "test_plot = fig.add_subplot(1, 2, 2)\n",
    "\n",
    "\n",
    "y_ticks = [e + 1 for e in range(epochs)]\n",
    "x_ticks = np.arange(0.75, 1.0, 0.05)\n",
    "def create_plot(line_plot, data, kind):\n",
    "    line_plot.plot(data, y_ticks, c=color, label=key)\n",
    "    line_plot.legend(loc='upper left')\n",
    "    line_plot.set_title(\"Model's {} prediction accuracy trends\".format(kind))\n",
    "    line_plot.set_xlabel('Accuracy')\n",
    "    line_plot.set_xticks(x_ticks)\n",
    "    line_plot.set_ylabel('Epochs')\n",
    "    line_plot.set_yticks(y_ticks)\n",
    "\n",
    "create_plot(train_accuracy1, train_accuracy, 'train')\n",
    "create_plot(test_accuracy1, test_accuracy, 'test')\n",
    "\n",
    "final_accuracy[key] = (train_accuracy, test_accuracy)\n",
    "plt.show()"
   ]
  },
  {
   "cell_type": "code",
   "execution_count": null,
   "metadata": {
    "ExecuteTime": {
     "end_time": "2019-02-07T18:43:21.723501Z",
     "start_time": "2019-02-07T18:41:45.243Z"
    }
   },
   "outputs": [],
   "source": [
    "file_name = \"net.params_1\"\n",
    "net.save_parameters(file_name)"
   ]
  },
  {
   "cell_type": "code",
   "execution_count": null,
   "metadata": {},
   "outputs": [],
   "source": []
  }
 ],
 "metadata": {
  "kernelspec": {
   "display_name": "Python (data)",
   "language": "python",
   "name": "data"
  },
  "language_info": {
   "codemirror_mode": {
    "name": "ipython",
    "version": 3
   },
   "file_extension": ".py",
   "mimetype": "text/x-python",
   "name": "python",
   "nbconvert_exporter": "python",
   "pygments_lexer": "ipython3",
   "version": "3.6.7"
  }
 },
 "nbformat": 4,
 "nbformat_minor": 2
}
